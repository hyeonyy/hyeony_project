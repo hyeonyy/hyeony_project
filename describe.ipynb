{
 "cells": [
  {
   "cell_type": "markdown",
   "metadata": {},
   "source": [
    "# Basic Describe"
   ]
  },
  {
   "cell_type": "code",
   "execution_count": 1,
   "metadata": {},
   "outputs": [
    {
     "name": "stderr",
     "output_type": "stream",
     "text": [
      "\n",
      "Attaching package: 'dplyr'\n",
      "\n",
      "The following objects are masked from 'package:stats':\n",
      "\n",
      "    filter, lag\n",
      "\n",
      "The following objects are masked from 'package:base':\n",
      "\n",
      "    intersect, setdiff, setequal, union\n",
      "\n",
      "Warning message:\n",
      "\"package 'corrgram' was built under R version 3.6.1\"Registered S3 methods overwritten by 'ggplot2':\n",
      "  method         from \n",
      "  [.quosures     rlang\n",
      "  c.quosures     rlang\n",
      "  print.quosures rlang\n",
      "Registered S3 method overwritten by 'seriation':\n",
      "  method         from \n",
      "  reorder.hclust gclus\n"
     ]
    }
   ],
   "source": [
    "library(dplyr)\n",
    "library(corrgram)"
   ]
  },
  {
   "cell_type": "markdown",
   "metadata": {},
   "source": [
    "### Data load"
   ]
  },
  {
   "cell_type": "code",
   "execution_count": 2,
   "metadata": {},
   "outputs": [
    {
     "name": "stderr",
     "output_type": "stream",
     "text": [
      "\n",
      "Attaching package: 'data.table'\n",
      "\n",
      "The following objects are masked from 'package:dplyr':\n",
      "\n",
      "    between, first, last\n",
      "\n"
     ]
    }
   ],
   "source": [
    "library(data.table)\n",
    "\n",
    "bigcon_weather <- fread(\"bigcon_weather.csv\", encoding = \"UTF-8\", header= TRUE)\n",
    "korea_cvs <- fread(\"korea_cvs.csv\", encoding = \"UTF-8\", header= TRUE)\n",
    "korea_hnb <- fread(\"korea_hnb.csv\", encoding = \"UTF-8\", header= TRUE)\n",
    "social_br <- fread(\"social_br.csv\", encoding = \"UTF-8\", header= TRUE)\n",
    "social_date <- fread(\"social_date.csv\", encoding = \"UTF-8\", header= TRUE)\n",
    "social_health <- fread(\"social_health.csv\", encoding = \"UTF-8\", header= TRUE)\n",
    "social_hobby <- fread(\"social_hobby.csv\", encoding = \"UTF-8\", header= TRUE)\n",
    "social_pm <- fread(\"social_pm.csv\", encoding = \"UTF-8\", header= TRUE)"
   ]
  },
  {
   "cell_type": "code",
   "execution_count": 3,
   "metadata": {
    "scrolled": true
   },
   "outputs": [
    {
     "data": {
      "text/html": [
       "<table>\n",
       "<thead><tr><th scope=col>bigcon_weather.tm</th><th scope=col>bigcon_weather.stn_id</th><th scope=col>bigcon_weather.pvn_nm</th><th scope=col>bigcon_weather.bor_nm</th><th scope=col>bigcon_weather.max_ta</th><th scope=col>bigcon_weather.max_ws</th><th scope=col>bigcon_weather.min_ta</th><th scope=col>bigcon_weather.avg_ta</th><th scope=col>bigcon_weather.avg_rhm</th><th scope=col>bigcon_weather.avg_ws</th><th scope=col>bigcon_weather.sum_rn</th></tr></thead>\n",
       "<tbody>\n",
       "\t<tr><td>20160101</td><td>98      </td><td>경기도  </td><td>동두천시</td><td>6.5     </td><td>3.8     </td><td>-6.4    </td><td>-0.2    </td><td>74      </td><td>0.9     </td><td>0       </td></tr>\n",
       "</tbody>\n",
       "</table>\n"
      ],
      "text/latex": [
       "\\begin{tabular}{r|lllllllllll}\n",
       " bigcon\\_weather.tm & bigcon\\_weather.stn\\_id & bigcon\\_weather.pvn\\_nm & bigcon\\_weather.bor\\_nm & bigcon\\_weather.max\\_ta & bigcon\\_weather.max\\_ws & bigcon\\_weather.min\\_ta & bigcon\\_weather.avg\\_ta & bigcon\\_weather.avg\\_rhm & bigcon\\_weather.avg\\_ws & bigcon\\_weather.sum\\_rn\\\\\n",
       "\\hline\n",
       "\t 20160101 & 98       & 경기도   & 동두천시 & 6.5      & 3.8      & -6.4     & -0.2     & 74       & 0.9      & 0       \\\\\n",
       "\\end{tabular}\n"
      ],
      "text/markdown": [
       "\n",
       "| bigcon_weather.tm | bigcon_weather.stn_id | bigcon_weather.pvn_nm | bigcon_weather.bor_nm | bigcon_weather.max_ta | bigcon_weather.max_ws | bigcon_weather.min_ta | bigcon_weather.avg_ta | bigcon_weather.avg_rhm | bigcon_weather.avg_ws | bigcon_weather.sum_rn |\n",
       "|---|---|---|---|---|---|---|---|---|---|---|\n",
       "| 20160101 | 98       | 경기도   | 동두천시 | 6.5      | 3.8      | -6.4     | -0.2     | 74       | 0.9      | 0        |\n",
       "\n"
      ],
      "text/plain": [
       "  bigcon_weather.tm bigcon_weather.stn_id bigcon_weather.pvn_nm\n",
       "1 20160101          98                    경기도               \n",
       "  bigcon_weather.bor_nm bigcon_weather.max_ta bigcon_weather.max_ws\n",
       "1 동두천시              6.5                   3.8                  \n",
       "  bigcon_weather.min_ta bigcon_weather.avg_ta bigcon_weather.avg_rhm\n",
       "1 -6.4                  -0.2                  74                    \n",
       "  bigcon_weather.avg_ws bigcon_weather.sum_rn\n",
       "1 0.9                   0                    "
      ]
     },
     "metadata": {},
     "output_type": "display_data"
    },
    {
     "data": {
      "text/html": [
       "<table>\n",
       "<thead><tr><th scope=col>korea_cvs.pvn_nm</th><th scope=col>korea_cvs.sale_dt</th><th scope=col>korea_cvs.gen_cd</th><th scope=col>korea_cvs.age_cd</th><th scope=col>korea_cvs.category</th><th scope=col>korea_cvs.adj_qty</th><th scope=col>korea_cvs.bor_nm</th></tr></thead>\n",
       "<tbody>\n",
       "\t<tr><td>서울특별시</td><td>20160101  </td><td>F         </td><td>00~19     </td><td>라면      </td><td>7         </td><td>종로구    </td></tr>\n",
       "</tbody>\n",
       "</table>\n"
      ],
      "text/latex": [
       "\\begin{tabular}{r|lllllll}\n",
       " korea\\_cvs.pvn\\_nm & korea\\_cvs.sale\\_dt & korea\\_cvs.gen\\_cd & korea\\_cvs.age\\_cd & korea\\_cvs.category & korea\\_cvs.adj\\_qty & korea\\_cvs.bor\\_nm\\\\\n",
       "\\hline\n",
       "\t 서울특별시             & 20160101               & F                      & 00\\textasciitilde{}19 & 라면                   & 7                      & 종로구                \\\\\n",
       "\\end{tabular}\n"
      ],
      "text/markdown": [
       "\n",
       "| korea_cvs.pvn_nm | korea_cvs.sale_dt | korea_cvs.gen_cd | korea_cvs.age_cd | korea_cvs.category | korea_cvs.adj_qty | korea_cvs.bor_nm |\n",
       "|---|---|---|---|---|---|---|\n",
       "| 서울특별시 | 20160101   | F          | 00~19      | 라면       | 7          | 종로구     |\n",
       "\n"
      ],
      "text/plain": [
       "  korea_cvs.pvn_nm korea_cvs.sale_dt korea_cvs.gen_cd korea_cvs.age_cd\n",
       "1 서울특별시       20160101          F                00~19           \n",
       "  korea_cvs.category korea_cvs.adj_qty korea_cvs.bor_nm\n",
       "1 라면               7                 종로구          "
      ]
     },
     "metadata": {},
     "output_type": "display_data"
    },
    {
     "name": "stdout",
     "output_type": "stream",
     "text": [
      "Classes 'data.table' and 'data.frame':\t2707786 obs. of  7 variables:\n",
      " $ korea_cvs.pvn_nm  : chr  \"서울특별시\" \"서울특별시\" \"서울특별시\" \"서울특별시\" ...\n",
      " $ korea_cvs.sale_dt : int  20160101 20160101 20160101 20160101 20160101 20160101 20160101 20160101 20160101 20160101 ...\n",
      " $ korea_cvs.gen_cd  : chr  \"F\" \"F\" \"F\" \"F\" ...\n",
      " $ korea_cvs.age_cd  : chr  \"00~19\" \"20~39\" \"20~39\" \"20~39\" ...\n",
      " $ korea_cvs.category: chr  \"라면\" \"과자\" \"라면\" \"마스크\" ...\n",
      " $ korea_cvs.adj_qty : int  7 655 282 35 183 78 56 14 28 211 ...\n",
      " $ korea_cvs.bor_nm  : chr  \"종로구\" \"종로구\" \"종로구\" \"종로구\" ...\n",
      " - attr(*, \".internal.selfref\")=<externalptr> \n"
     ]
    },
    {
     "data": {
      "text/html": [
       "<table>\n",
       "<thead><tr><th scope=col>korea_hnb.pvn_nm</th><th scope=col>korea_hnb.bor_nm</th><th scope=col>korea_hnb.sale_dt</th><th scope=col>korea_hnb.gen_cd</th><th scope=col>korea_hnb.age_cd</th><th scope=col>korea_hnb.category</th><th scope=col>korea_hnb.qty</th></tr></thead>\n",
       "<tbody>\n",
       "\t<tr><td>서울특별시</td><td>종로구    </td><td>20160101  </td><td>F         </td><td>20~39     </td><td>립컬러    </td><td>73        </td></tr>\n",
       "</tbody>\n",
       "</table>\n"
      ],
      "text/latex": [
       "\\begin{tabular}{r|lllllll}\n",
       " korea\\_hnb.pvn\\_nm & korea\\_hnb.bor\\_nm & korea\\_hnb.sale\\_dt & korea\\_hnb.gen\\_cd & korea\\_hnb.age\\_cd & korea\\_hnb.category & korea\\_hnb.qty\\\\\n",
       "\\hline\n",
       "\t 서울특별시             & 종로구                 & 20160101               & F                      & 20\\textasciitilde{}39 & 립컬러                 & 73                    \\\\\n",
       "\\end{tabular}\n"
      ],
      "text/markdown": [
       "\n",
       "| korea_hnb.pvn_nm | korea_hnb.bor_nm | korea_hnb.sale_dt | korea_hnb.gen_cd | korea_hnb.age_cd | korea_hnb.category | korea_hnb.qty |\n",
       "|---|---|---|---|---|---|---|\n",
       "| 서울특별시 | 종로구     | 20160101   | F          | 20~39      | 립컬러     | 73         |\n",
       "\n"
      ],
      "text/plain": [
       "  korea_hnb.pvn_nm korea_hnb.bor_nm korea_hnb.sale_dt korea_hnb.gen_cd\n",
       "1 서울특별시       종로구           20160101          F               \n",
       "  korea_hnb.age_cd korea_hnb.category korea_hnb.qty\n",
       "1 20~39            립컬러             73           "
      ]
     },
     "metadata": {},
     "output_type": "display_data"
    },
    {
     "name": "stdout",
     "output_type": "stream",
     "text": [
      "Classes 'data.table' and 'data.frame':\t820274 obs. of  7 variables:\n",
      " $ korea_hnb.pvn_nm  : chr  \"서울특별시\" \"서울특별시\" \"서울특별시\" \"서울특별시\" ...\n",
      " $ korea_hnb.bor_nm  : chr  \"종로구\" \"종로구\" \"종로구\" \"종로구\" ...\n",
      " $ korea_hnb.sale_dt : int  20160101 20160101 20160101 20160101 20160101 20160101 20160101 20160101 20160101 20160102 ...\n",
      " $ korea_hnb.gen_cd  : chr  \"F\" \"F\" \"F\" \"F\" ...\n",
      " $ korea_hnb.age_cd  : chr  \"20~39\" \"20~39\" \"20~39\" \"20~39\" ...\n",
      " $ korea_hnb.category: chr  \"립컬러\" \"립케어\" \"마스크팩\" \"바디로션\" ...\n",
      " $ korea_hnb.qty     : int  73 219 657 328 109 73 182 146 36 73 ...\n",
      " - attr(*, \".internal.selfref\")=<externalptr> \n"
     ]
    },
    {
     "data": {
      "text/html": [
       "<table>\n",
       "<thead><tr><th scope=col>social_br.date</th><th scope=col>social_br.blog</th><th scope=col>social_br.twitter</th><th scope=col>social_br.news</th><th scope=col>social_br.total</th></tr></thead>\n",
       "<tbody>\n",
       "\t<tr><td>2016-01-01</td><td>3211      </td><td>596       </td><td>36        </td><td>3843      </td></tr>\n",
       "</tbody>\n",
       "</table>\n"
      ],
      "text/latex": [
       "\\begin{tabular}{r|lllll}\n",
       " social\\_br.date & social\\_br.blog & social\\_br.twitter & social\\_br.news & social\\_br.total\\\\\n",
       "\\hline\n",
       "\t 2016-01-01 & 3211       & 596        & 36         & 3843      \\\\\n",
       "\\end{tabular}\n"
      ],
      "text/markdown": [
       "\n",
       "| social_br.date | social_br.blog | social_br.twitter | social_br.news | social_br.total |\n",
       "|---|---|---|---|---|\n",
       "| 2016-01-01 | 3211       | 596        | 36         | 3843       |\n",
       "\n"
      ],
      "text/plain": [
       "  social_br.date social_br.blog social_br.twitter social_br.news\n",
       "1 2016-01-01     3211           596               36            \n",
       "  social_br.total\n",
       "1 3843           "
      ]
     },
     "metadata": {},
     "output_type": "display_data"
    },
    {
     "data": {
      "text/html": [
       "<table>\n",
       "<thead><tr><th scope=col>social_date.date</th><th scope=col>social_date.blog</th><th scope=col>social_date.twitter</th><th scope=col>social_date.news</th><th scope=col>social_date.total</th></tr></thead>\n",
       "<tbody>\n",
       "\t<tr><td>2016-01-01</td><td>934       </td><td>1334      </td><td>159       </td><td>2427      </td></tr>\n",
       "</tbody>\n",
       "</table>\n"
      ],
      "text/latex": [
       "\\begin{tabular}{r|lllll}\n",
       " social\\_date.date & social\\_date.blog & social\\_date.twitter & social\\_date.news & social\\_date.total\\\\\n",
       "\\hline\n",
       "\t 2016-01-01 & 934        & 1334       & 159        & 2427      \\\\\n",
       "\\end{tabular}\n"
      ],
      "text/markdown": [
       "\n",
       "| social_date.date | social_date.blog | social_date.twitter | social_date.news | social_date.total |\n",
       "|---|---|---|---|---|\n",
       "| 2016-01-01 | 934        | 1334       | 159        | 2427       |\n",
       "\n"
      ],
      "text/plain": [
       "  social_date.date social_date.blog social_date.twitter social_date.news\n",
       "1 2016-01-01       934              1334                159             \n",
       "  social_date.total\n",
       "1 2427             "
      ]
     },
     "metadata": {},
     "output_type": "display_data"
    },
    {
     "data": {
      "text/html": [
       "<table>\n",
       "<thead><tr><th scope=col>social_health.date</th><th scope=col>social_health.blog</th><th scope=col>social_health.twitter</th><th scope=col>social_health.news</th><th scope=col>social_health.total</th></tr></thead>\n",
       "<tbody>\n",
       "\t<tr><td>2016-01-01</td><td>3606      </td><td>5325      </td><td>455       </td><td>9386      </td></tr>\n",
       "</tbody>\n",
       "</table>\n"
      ],
      "text/latex": [
       "\\begin{tabular}{r|lllll}\n",
       " social\\_health.date & social\\_health.blog & social\\_health.twitter & social\\_health.news & social\\_health.total\\\\\n",
       "\\hline\n",
       "\t 2016-01-01 & 3606       & 5325       & 455        & 9386      \\\\\n",
       "\\end{tabular}\n"
      ],
      "text/markdown": [
       "\n",
       "| social_health.date | social_health.blog | social_health.twitter | social_health.news | social_health.total |\n",
       "|---|---|---|---|---|\n",
       "| 2016-01-01 | 3606       | 5325       | 455        | 9386       |\n",
       "\n"
      ],
      "text/plain": [
       "  social_health.date social_health.blog social_health.twitter\n",
       "1 2016-01-01         3606               5325                 \n",
       "  social_health.news social_health.total\n",
       "1 455                9386               "
      ]
     },
     "metadata": {},
     "output_type": "display_data"
    },
    {
     "data": {
      "text/html": [
       "<table>\n",
       "<thead><tr><th scope=col>social_hobby.date</th><th scope=col>social_hobby.blog</th><th scope=col>social_hobby.twitter</th><th scope=col>social_hobby.news</th><th scope=col>social_hobby.total</th></tr></thead>\n",
       "<tbody>\n",
       "\t<tr><td>2016-01-01</td><td>621       </td><td>1342      </td><td>21        </td><td>1984      </td></tr>\n",
       "</tbody>\n",
       "</table>\n"
      ],
      "text/latex": [
       "\\begin{tabular}{r|lllll}\n",
       " social\\_hobby.date & social\\_hobby.blog & social\\_hobby.twitter & social\\_hobby.news & social\\_hobby.total\\\\\n",
       "\\hline\n",
       "\t 2016-01-01 & 621        & 1342       & 21         & 1984      \\\\\n",
       "\\end{tabular}\n"
      ],
      "text/markdown": [
       "\n",
       "| social_hobby.date | social_hobby.blog | social_hobby.twitter | social_hobby.news | social_hobby.total |\n",
       "|---|---|---|---|---|\n",
       "| 2016-01-01 | 621        | 1342       | 21         | 1984       |\n",
       "\n"
      ],
      "text/plain": [
       "  social_hobby.date social_hobby.blog social_hobby.twitter social_hobby.news\n",
       "1 2016-01-01        621               1342                 21               \n",
       "  social_hobby.total\n",
       "1 1984              "
      ]
     },
     "metadata": {},
     "output_type": "display_data"
    },
    {
     "data": {
      "text/html": [
       "<table>\n",
       "<thead><tr><th scope=col>social_pm.date</th><th scope=col>social_pm.blog</th><th scope=col>social_pm.twitter</th><th scope=col>social_pm.news</th><th scope=col>social_pm.total</th></tr></thead>\n",
       "<tbody>\n",
       "\t<tr><td>2016-01-01</td><td>134       </td><td>114       </td><td>64        </td><td>312       </td></tr>\n",
       "</tbody>\n",
       "</table>\n"
      ],
      "text/latex": [
       "\\begin{tabular}{r|lllll}\n",
       " social\\_pm.date & social\\_pm.blog & social\\_pm.twitter & social\\_pm.news & social\\_pm.total\\\\\n",
       "\\hline\n",
       "\t 2016-01-01 & 134        & 114        & 64         & 312       \\\\\n",
       "\\end{tabular}\n"
      ],
      "text/markdown": [
       "\n",
       "| social_pm.date | social_pm.blog | social_pm.twitter | social_pm.news | social_pm.total |\n",
       "|---|---|---|---|---|\n",
       "| 2016-01-01 | 134        | 114        | 64         | 312        |\n",
       "\n"
      ],
      "text/plain": [
       "  social_pm.date social_pm.blog social_pm.twitter social_pm.news\n",
       "1 2016-01-01     134            114               64            \n",
       "  social_pm.total\n",
       "1 312            "
      ]
     },
     "metadata": {},
     "output_type": "display_data"
    }
   ],
   "source": [
    "head(bigcon_weather,1)\n",
    "head(korea_cvs,1)\n",
    "str(korea_cvs)\n",
    "head(korea_hnb,1)\n",
    "str(korea_hnb)\n",
    "head(social_br,1)\n",
    "head(social_date,1)\n",
    "head(social_health,1)\n",
    "head(social_hobby,1)\n",
    "head(social_pm,1)"
   ]
  },
  {
   "cell_type": "markdown",
   "metadata": {},
   "source": [
    "### merge를 위한 새로운 컬럼 생성"
   ]
  },
  {
   "cell_type": "code",
   "execution_count": 4,
   "metadata": {},
   "outputs": [
    {
     "name": "stdout",
     "output_type": "stream",
     "text": [
      "Classes 'data.table' and 'data.frame':\t59113 obs. of  11 variables:\n",
      " $ bigcon_weather.tm     : int  20160101 20160102 20160103 20160104 20160105 20160106 20160107 20160108 20160109 20160110 ...\n",
      " $ bigcon_weather.stn_id : int  98 98 98 98 98 98 98 98 98 98 ...\n",
      " $ bigcon_weather.pvn_nm : chr  \"경기도\" \"경기도\" \"경기도\" \"경기도\" ...\n",
      " $ bigcon_weather.bor_nm : chr  \"동두천시\" \"동두천시\" \"동두천시\" \"동두천시\" ...\n",
      " $ bigcon_weather.max_ta : num  6.5 10.1 9 8 3.1 4.4 3.3 3.3 3 5.8 ...\n",
      " $ bigcon_weather.max_ws : num  3.8 3.2 2.4 5.3 5.6 5.4 4.8 5.2 5.1 6.2 ...\n",
      " $ bigcon_weather.min_ta : num  -6.4 1.9 2.1 -3 -6.4 -7.9 -8.8 -10 -9.8 -4.6 ...\n",
      " $ bigcon_weather.avg_ta : num  -0.2 5.4 4.7 1.9 -2.8 -2.4 -3.7 -4.1 -3.6 -0.5 ...\n",
      " $ bigcon_weather.avg_rhm: int  74 70 82 55 36 55 48 50 58 42 ...\n",
      " $ bigcon_weather.avg_ws : num  0.9 1.3 0.7 2.2 1.8 1.5 1.7 1.3 1.4 1.8 ...\n",
      " $ bigcon_weather.sum_rn : num  0 0 0 0 0 0 0 0 0 0 ...\n",
      " - attr(*, \".internal.selfref\")=<externalptr> \n",
      "Classes 'data.table' and 'data.frame':\t820274 obs. of  7 variables:\n",
      " $ korea_hnb.pvn_nm  : chr  \"서울특별시\" \"서울특별시\" \"서울특별시\" \"서울특별시\" ...\n",
      " $ korea_hnb.bor_nm  : chr  \"종로구\" \"종로구\" \"종로구\" \"종로구\" ...\n",
      " $ korea_hnb.sale_dt : int  20160101 20160101 20160101 20160101 20160101 20160101 20160101 20160101 20160101 20160102 ...\n",
      " $ korea_hnb.gen_cd  : chr  \"F\" \"F\" \"F\" \"F\" ...\n",
      " $ korea_hnb.age_cd  : chr  \"20~39\" \"20~39\" \"20~39\" \"20~39\" ...\n",
      " $ korea_hnb.category: chr  \"립컬러\" \"립케어\" \"마스크팩\" \"바디로션\" ...\n",
      " $ korea_hnb.qty     : int  73 219 657 328 109 73 182 146 36 73 ...\n",
      " - attr(*, \".internal.selfref\")=<externalptr> \n"
     ]
    }
   ],
   "source": [
    "str(bigcon_weather)\n",
    "str(korea_hnb)"
   ]
  },
  {
   "cell_type": "code",
   "execution_count": 5,
   "metadata": {},
   "outputs": [],
   "source": [
    "bigcon_weather <- mutate(bigcon_weather, standard = paste(bigcon_weather.pvn_nm , bigcon_weather.bor_nm , \n",
    "                                                          as.character(bigcon_weather.tm)))"
   ]
  },
  {
   "cell_type": "code",
   "execution_count": 6,
   "metadata": {},
   "outputs": [],
   "source": [
    "korea_hnb <- mutate(korea_hnb, standard = paste(korea_hnb.pvn_nm, korea_hnb.bor_nm, as.character(korea_hnb.sale_dt)))"
   ]
  },
  {
   "cell_type": "markdown",
   "metadata": {},
   "source": [
    "### bigcon_weather과 korea_hnb 병합"
   ]
  },
  {
   "cell_type": "code",
   "execution_count": 7,
   "metadata": {},
   "outputs": [
    {
     "data": {
      "text/html": [
       "<table>\n",
       "<thead><tr><th scope=col>bigcon_weather.tm</th><th scope=col>bigcon_weather.stn_id</th><th scope=col>bigcon_weather.pvn_nm</th><th scope=col>bigcon_weather.bor_nm</th><th scope=col>bigcon_weather.max_ta</th><th scope=col>bigcon_weather.max_ws</th><th scope=col>bigcon_weather.min_ta</th><th scope=col>bigcon_weather.avg_ta</th><th scope=col>bigcon_weather.avg_rhm</th><th scope=col>bigcon_weather.avg_ws</th><th scope=col>bigcon_weather.sum_rn</th><th scope=col>korea_hnb.gen_cd</th><th scope=col>korea_hnb.age_cd</th><th scope=col>korea_hnb.category</th><th scope=col>korea_hnb.qty</th></tr></thead>\n",
       "<tbody>\n",
       "\t<tr><td>20160101</td><td>540     </td><td>경기도  </td><td>고양시  </td><td>5.2     </td><td>2.5     </td><td>-5      </td><td>1.2     </td><td>73      </td><td>0.6     </td><td>0       </td><td>F       </td><td>20~39   </td><td>마스크팩</td><td>657     </td></tr>\n",
       "\t<tr><td>20160101</td><td>540     </td><td>경기도  </td><td>고양시  </td><td>5.2     </td><td>2.5     </td><td>-5      </td><td>1.2     </td><td>73      </td><td>0.6     </td><td>0       </td><td>F       </td><td>20~39   </td><td>네일    </td><td> 73     </td></tr>\n",
       "\t<tr><td>20160101</td><td>540     </td><td>경기도  </td><td>고양시  </td><td>5.2     </td><td>2.5     </td><td>-5      </td><td>1.2     </td><td>73      </td><td>0.6     </td><td>0       </td><td>M       </td><td>20~39   </td><td>선케어  </td><td> 36     </td></tr>\n",
       "\t<tr><td>20160101</td><td>540     </td><td>경기도  </td><td>고양시  </td><td>5.2     </td><td>2.5     </td><td>-5      </td><td>1.2     </td><td>73      </td><td>0.6     </td><td>0       </td><td>F       </td><td>20~39   </td><td>립케어  </td><td>219     </td></tr>\n",
       "\t<tr><td>20160101</td><td>540     </td><td>경기도  </td><td>고양시  </td><td>5.2     </td><td>2.5     </td><td>-5      </td><td>1.2     </td><td>73      </td><td>0.6     </td><td>0       </td><td>F       </td><td>20~39   </td><td>립컬러  </td><td>255     </td></tr>\n",
       "\t<tr><td>20160101</td><td>540     </td><td>경기도  </td><td>고양시  </td><td>5.2     </td><td>2.5     </td><td>-5      </td><td>1.2     </td><td>73      </td><td>0.6     </td><td>0       </td><td>F       </td><td>00~19   </td><td>마스크팩</td><td> 36     </td></tr>\n",
       "</tbody>\n",
       "</table>\n"
      ],
      "text/latex": [
       "\\begin{tabular}{r|lllllllllllllll}\n",
       " bigcon\\_weather.tm & bigcon\\_weather.stn\\_id & bigcon\\_weather.pvn\\_nm & bigcon\\_weather.bor\\_nm & bigcon\\_weather.max\\_ta & bigcon\\_weather.max\\_ws & bigcon\\_weather.min\\_ta & bigcon\\_weather.avg\\_ta & bigcon\\_weather.avg\\_rhm & bigcon\\_weather.avg\\_ws & bigcon\\_weather.sum\\_rn & korea\\_hnb.gen\\_cd & korea\\_hnb.age\\_cd & korea\\_hnb.category & korea\\_hnb.qty\\\\\n",
       "\\hline\n",
       "\t 20160101               & 540                    & 경기도                 & 고양시                 & 5.2                    & 2.5                    & -5                     & 1.2                    & 73                     & 0.6                    & 0                      & F                      & 20\\textasciitilde{}39 & 마스크팩               & 657                   \\\\\n",
       "\t 20160101               & 540                    & 경기도                 & 고양시                 & 5.2                    & 2.5                    & -5                     & 1.2                    & 73                     & 0.6                    & 0                      & F                      & 20\\textasciitilde{}39 & 네일                   &  73                   \\\\\n",
       "\t 20160101               & 540                    & 경기도                 & 고양시                 & 5.2                    & 2.5                    & -5                     & 1.2                    & 73                     & 0.6                    & 0                      & M                      & 20\\textasciitilde{}39 & 선케어                 &  36                   \\\\\n",
       "\t 20160101               & 540                    & 경기도                 & 고양시                 & 5.2                    & 2.5                    & -5                     & 1.2                    & 73                     & 0.6                    & 0                      & F                      & 20\\textasciitilde{}39 & 립케어                 & 219                   \\\\\n",
       "\t 20160101               & 540                    & 경기도                 & 고양시                 & 5.2                    & 2.5                    & -5                     & 1.2                    & 73                     & 0.6                    & 0                      & F                      & 20\\textasciitilde{}39 & 립컬러                 & 255                   \\\\\n",
       "\t 20160101               & 540                    & 경기도                 & 고양시                 & 5.2                    & 2.5                    & -5                     & 1.2                    & 73                     & 0.6                    & 0                      & F                      & 00\\textasciitilde{}19 & 마스크팩               &  36                   \\\\\n",
       "\\end{tabular}\n"
      ],
      "text/markdown": [
       "\n",
       "| bigcon_weather.tm | bigcon_weather.stn_id | bigcon_weather.pvn_nm | bigcon_weather.bor_nm | bigcon_weather.max_ta | bigcon_weather.max_ws | bigcon_weather.min_ta | bigcon_weather.avg_ta | bigcon_weather.avg_rhm | bigcon_weather.avg_ws | bigcon_weather.sum_rn | korea_hnb.gen_cd | korea_hnb.age_cd | korea_hnb.category | korea_hnb.qty |\n",
       "|---|---|---|---|---|---|---|---|---|---|---|---|---|---|---|\n",
       "| 20160101 | 540      | 경기도   | 고양시   | 5.2      | 2.5      | -5       | 1.2      | 73       | 0.6      | 0        | F        | 20~39    | 마스크팩 | 657      |\n",
       "| 20160101 | 540      | 경기도   | 고양시   | 5.2      | 2.5      | -5       | 1.2      | 73       | 0.6      | 0        | F        | 20~39    | 네일     |  73      |\n",
       "| 20160101 | 540      | 경기도   | 고양시   | 5.2      | 2.5      | -5       | 1.2      | 73       | 0.6      | 0        | M        | 20~39    | 선케어   |  36      |\n",
       "| 20160101 | 540      | 경기도   | 고양시   | 5.2      | 2.5      | -5       | 1.2      | 73       | 0.6      | 0        | F        | 20~39    | 립케어   | 219      |\n",
       "| 20160101 | 540      | 경기도   | 고양시   | 5.2      | 2.5      | -5       | 1.2      | 73       | 0.6      | 0        | F        | 20~39    | 립컬러   | 255      |\n",
       "| 20160101 | 540      | 경기도   | 고양시   | 5.2      | 2.5      | -5       | 1.2      | 73       | 0.6      | 0        | F        | 00~19    | 마스크팩 |  36      |\n",
       "\n"
      ],
      "text/plain": [
       "  bigcon_weather.tm bigcon_weather.stn_id bigcon_weather.pvn_nm\n",
       "1 20160101          540                   경기도               \n",
       "2 20160101          540                   경기도               \n",
       "3 20160101          540                   경기도               \n",
       "4 20160101          540                   경기도               \n",
       "5 20160101          540                   경기도               \n",
       "6 20160101          540                   경기도               \n",
       "  bigcon_weather.bor_nm bigcon_weather.max_ta bigcon_weather.max_ws\n",
       "1 고양시                5.2                   2.5                  \n",
       "2 고양시                5.2                   2.5                  \n",
       "3 고양시                5.2                   2.5                  \n",
       "4 고양시                5.2                   2.5                  \n",
       "5 고양시                5.2                   2.5                  \n",
       "6 고양시                5.2                   2.5                  \n",
       "  bigcon_weather.min_ta bigcon_weather.avg_ta bigcon_weather.avg_rhm\n",
       "1 -5                    1.2                   73                    \n",
       "2 -5                    1.2                   73                    \n",
       "3 -5                    1.2                   73                    \n",
       "4 -5                    1.2                   73                    \n",
       "5 -5                    1.2                   73                    \n",
       "6 -5                    1.2                   73                    \n",
       "  bigcon_weather.avg_ws bigcon_weather.sum_rn korea_hnb.gen_cd korea_hnb.age_cd\n",
       "1 0.6                   0                     F                20~39           \n",
       "2 0.6                   0                     F                20~39           \n",
       "3 0.6                   0                     M                20~39           \n",
       "4 0.6                   0                     F                20~39           \n",
       "5 0.6                   0                     F                20~39           \n",
       "6 0.6                   0                     F                00~19           \n",
       "  korea_hnb.category korea_hnb.qty\n",
       "1 마스크팩           657          \n",
       "2 네일                73          \n",
       "3 선케어              36          \n",
       "4 립케어             219          \n",
       "5 립컬러             255          \n",
       "6 마스크팩            36          "
      ]
     },
     "metadata": {},
     "output_type": "display_data"
    }
   ],
   "source": [
    "total_data <- merge(bigcon_weather, korea_hnb, by = \"standard\")\n",
    "\n",
    "#중복되는 컬럼 제거\n",
    "total_data <- total_data[,c(2,3,4,5,6,7,8,9,10,11,12,16,17,18,19)]\n",
    "\n",
    "head(total_data)"
   ]
  },
  {
   "cell_type": "markdown",
   "metadata": {},
   "source": [
    "### 카테고리별 비율"
   ]
  },
  {
   "cell_type": "code",
   "execution_count": 8,
   "metadata": {},
   "outputs": [
    {
     "data": {
      "text/plain": [
       "\n",
       "        네일       립컬러       립케어     마스크팩     바디로션       선케어 \n",
       "  0.07216350   0.14690316   0.10285012   0.16918730   0.09652569   0.07519574 \n",
       "      제모제     체중조절     크림로션 훼이셜클렌저 \n",
       "  0.03778310   0.04101459   0.12847003   0.12990676 "
      ]
     },
     "metadata": {},
     "output_type": "display_data"
    }
   ],
   "source": [
    "prop.table(table(total_data$korea_hnb.category))"
   ]
  },
  {
   "cell_type": "markdown",
   "metadata": {},
   "source": [
    "#### total_data 속성별 boxplot"
   ]
  },
  {
   "cell_type": "code",
   "execution_count": 9,
   "metadata": {},
   "outputs": [
    {
     "data": {
      "image/png": "[encoded data removed]",
      "text/plain": [
       "plot without title"
      ]
     },
     "metadata": {},
     "output_type": "display_data"
    }
   ],
   "source": [
    "boxplot(total_data[,c(5,6,7,8,9,10,11)])"
   ]
  },
  {
   "cell_type": "markdown",
   "metadata": {},
   "source": [
    "### korea_hnb의 상품별 판매 표준편차 확인"
   ]
  },
  {
   "cell_type": "code",
   "execution_count": 10,
   "metadata": {},
   "outputs": [
    {
     "name": "stdout",
     "output_type": "stream",
     "text": [
      "네일 :  185.1118립컬러 :  796.8029립케어 :  239.9644마스크팩 :  2766.485바디로션 :  2509.85선케어 :  247.6451제모제 :  73.62968체중조절 :  323.7414크림로션 :  835.2895훼이셜클렌저 :  237.7865"
     ]
    }
   ],
   "source": [
    "cat(\"네일 : \",sd((subset(total_data, korea_hnb.category == \"네일\"))$korea_hnb.qty))\n",
    "cat(\"립컬러 : \",sd((subset(total_data, korea_hnb.category == \"립컬러\"))$korea_hnb.qty))\n",
    "cat(\"립케어 : \",sd((subset(total_data, korea_hnb.category == \"립케어\"))$korea_hnb.qty))\n",
    "cat(\"마스크팩 : \",sd((subset(total_data, korea_hnb.category == \"마스크팩\"))$korea_hnb.qty))\n",
    "cat(\"바디로션 : \",sd((subset(total_data, korea_hnb.category == \"바디로션\"))$korea_hnb.qty))\n",
    "cat(\"선케어 : \",sd((subset(total_data, korea_hnb.category == \"선케어\"))$korea_hnb.qty))\n",
    "cat(\"제모제 : \",sd((subset(total_data, korea_hnb.category == \"제모제\"))$korea_hnb.qty))\n",
    "cat(\"체중조절 : \",sd((subset(total_data, korea_hnb.category == \"체중조절\"))$korea_hnb.qty))\n",
    "cat(\"크림로션 : \",sd((subset(total_data, korea_hnb.category == \"크림로션\"))$korea_hnb.qty))\n",
    "cat(\"훼이셜클렌저 : \",sd((subset(total_data, korea_hnb.category == \"훼이셜클렌저\"))$korea_hnb.qty))"
   ]
  },
  {
   "cell_type": "markdown",
   "metadata": {},
   "source": [
    "##### 립컬러 선택"
   ]
  },
  {
   "cell_type": "code",
   "execution_count": 11,
   "metadata": {},
   "outputs": [],
   "source": [
    "lip_total_data <- subset(total_data , korea_hnb.category == \"립컬러\")"
   ]
  },
  {
   "cell_type": "code",
   "execution_count": 12,
   "metadata": {},
   "outputs": [
    {
     "data": {
      "image/png": "[encoded data removed]",
      "text/plain": [
       "Plot with title \"density.default(x = x)\""
      ]
     },
     "metadata": {},
     "output_type": "display_data"
    }
   ],
   "source": [
    "# 분포표 (정규분포 이루고 있지 않음.)\n",
    "\n",
    "x <- lip_total_data$korea_hnb.qty\n",
    "\n",
    "plot(density(x))\n",
    "den.norm <- function(x)dnorm(x,mean=mean(x),sd=sd(x))\n",
    "curve(den.norm, col=\"orange\",add=TRUE,lty=3)\n",
    "abline(v=mean(x),col=\"purple\",lty=2)"
   ]
  },
  {
   "cell_type": "markdown",
   "metadata": {},
   "source": [
    "### Time Series Graph"
   ]
  },
  {
   "cell_type": "code",
   "execution_count": 13,
   "metadata": {},
   "outputs": [],
   "source": [
    "lip_total_data$bigcon_weather.tm <- as.Date(as.character(lip_total_data$bigcon_weather.tm), format = \"%Y%m%d\")"
   ]
  },
  {
   "cell_type": "code",
   "execution_count": 14,
   "metadata": {},
   "outputs": [
    {
     "data": {
      "image/png": "[encoded data removed]",
      "text/plain": [
       "plot without title"
      ]
     },
     "metadata": {},
     "output_type": "display_data"
    }
   ],
   "source": [
    "library(ggplot2)\n",
    "\n",
    "ggplot(data = lip_total_data, aes(x= bigcon_weather.tm, y = korea_hnb.qty))+\n",
    "geom_line(size=1.2) +\n",
    "geom_point(size=3) +\n",
    "ggtitle(\"Time series\") +\n",
    "theme(plot.title=element_text(size=20))"
   ]
  },
  {
   "cell_type": "markdown",
   "metadata": {},
   "source": [
    "### 분석을위해 factor 형으로 변환"
   ]
  },
  {
   "cell_type": "code",
   "execution_count": 15,
   "metadata": {},
   "outputs": [
    {
     "name": "stdout",
     "output_type": "stream",
     "text": [
      "'data.frame':\t94375 obs. of  15 variables:\n",
      " $ bigcon_weather.tm     : Date, format: \"2016-01-01\" \"2016-01-01\" ...\n",
      " $ bigcon_weather.stn_id : int  540 540 540 540 540 540 540 540 540 540 ...\n",
      " $ bigcon_weather.pvn_nm : chr  \"경기도\" \"경기도\" \"경기도\" \"경기도\" ...\n",
      " $ bigcon_weather.bor_nm : chr  \"고양시\" \"고양시\" \"고양시\" \"고양시\" ...\n",
      " $ bigcon_weather.max_ta : num  5.2 5.2 5.2 10.6 10.6 9.5 9.5 9.5 5.9 5.9 ...\n",
      " $ bigcon_weather.max_ws : num  2.5 2.5 2.5 3.6 3.6 1.8 1.8 1.8 4.6 4.6 ...\n",
      " $ bigcon_weather.min_ta : num  -5 -5 -5 3 3 2 2 2 -3.4 -3.4 ...\n",
      " $ bigcon_weather.avg_ta : num  1.2 1.2 1.2 6.4 6.4 5.4 5.4 5.4 1.4 1.4 ...\n",
      " $ bigcon_weather.avg_rhm: int  73 73 73 73 73 87 87 87 58 58 ...\n",
      " $ bigcon_weather.avg_ws : num  0.6 0.6 0.6 1.7 1.7 0.2 0.2 0.2 1.6 1.6 ...\n",
      " $ bigcon_weather.sum_rn : num  0 0 0 0 0 0 0 0 0 0 ...\n",
      " $ korea_hnb.gen_cd      : chr  \"F\" \"M\" \"F\" \"F\" ...\n",
      " $ korea_hnb.age_cd      : chr  \"20~39\" \"20~39\" \"40~59\" \"00~19\" ...\n",
      " $ korea_hnb.category    : chr  \"립컬러\" \"립컬러\" \"립컬러\" \"립컬러\" ...\n",
      " $ korea_hnb.qty         : int  255 73 255 36 109 73 109 182 36 109 ...\n",
      "'data.frame':\t94375 obs. of  15 variables:\n",
      " $ bigcon_weather.tm     : Date, format: \"2016-01-01\" \"2016-01-01\" ...\n",
      " $ bigcon_weather.stn_id : int  540 540 540 540 540 540 540 540 540 540 ...\n",
      " $ bigcon_weather.pvn_nm : chr  \"경기도\" \"경기도\" \"경기도\" \"경기도\" ...\n",
      " $ bigcon_weather.bor_nm : chr  \"고양시\" \"고양시\" \"고양시\" \"고양시\" ...\n",
      " $ bigcon_weather.max_ta : num  5.2 5.2 5.2 10.6 10.6 9.5 9.5 9.5 5.9 5.9 ...\n",
      " $ bigcon_weather.max_ws : num  2.5 2.5 2.5 3.6 3.6 1.8 1.8 1.8 4.6 4.6 ...\n",
      " $ bigcon_weather.min_ta : num  -5 -5 -5 3 3 2 2 2 -3.4 -3.4 ...\n",
      " $ bigcon_weather.avg_ta : num  1.2 1.2 1.2 6.4 6.4 5.4 5.4 5.4 1.4 1.4 ...\n",
      " $ bigcon_weather.avg_rhm: int  73 73 73 73 73 87 87 87 58 58 ...\n",
      " $ bigcon_weather.avg_ws : num  0.6 0.6 0.6 1.7 1.7 0.2 0.2 0.2 1.6 1.6 ...\n",
      " $ bigcon_weather.sum_rn : num  0 0 0 0 0 0 0 0 0 0 ...\n",
      " $ korea_hnb.gen_cd      : Factor w/ 2 levels \"F\",\"M\": 1 2 1 1 1 1 2 1 2 1 ...\n",
      " $ korea_hnb.age_cd      : Factor w/ 4 levels \"00~19\",\"20~39\",..: 2 2 3 1 2 3 2 2 3 2 ...\n",
      " $ korea_hnb.category    : chr  \"립컬러\" \"립컬러\" \"립컬러\" \"립컬러\" ...\n",
      " $ korea_hnb.qty         : int  255 73 255 36 109 73 109 182 36 109 ...\n"
     ]
    }
   ],
   "source": [
    "str(lip_total_data)\n",
    "lip_total_data$korea_hnb.gen_cd <- as.factor(lip_total_data$korea_hnb.gen_cd)\n",
    "lip_total_data$korea_hnb.age_cd <- as.factor(lip_total_data$korea_hnb.age_cd)\n",
    "str(lip_total_data)"
   ]
  },
  {
   "cell_type": "markdown",
   "metadata": {},
   "source": [
    " ### 상관분석"
   ]
  },
  {
   "cell_type": "code",
   "execution_count": 16,
   "metadata": {},
   "outputs": [
    {
     "data": {
      "image/png": "[encoded data removed]",
      "text/plain": [
       "plot without title"
      ]
     },
     "metadata": {},
     "output_type": "display_data"
    }
   ],
   "source": [
    "corrgram(lip_total_data[,c(5,6,7,8,9,10,11,12,13,15)],upper.panel=panel.conf)\n",
    "\n",
    "# 립컬러의 판매수량은 날씨와 상관계수가 전혀 없음."
   ]
  },
  {
   "cell_type": "code",
   "execution_count": 17,
   "metadata": {},
   "outputs": [],
   "source": [
    "# 메모리 부족으로 fisher.test(불가)\n",
    "\n",
    "#t <- xtabs(korea_hnb.qty~bigcon_weather.max_ta+bigcon_weather.max_ws, data = lip_total_data)\n",
    "#fisher.test(t)\n"
   ]
  },
  {
   "cell_type": "markdown",
   "metadata": {},
   "source": [
    "### Linear Regression"
   ]
  },
  {
   "cell_type": "code",
   "execution_count": 18,
   "metadata": {},
   "outputs": [
    {
     "name": "stdout",
     "output_type": "stream",
     "text": [
      "'data.frame':\t94375 obs. of  8 variables:\n",
      " $ bigcon_weather.max_ta : num  5.2 5.2 5.2 10.6 10.6 9.5 9.5 9.5 5.9 5.9 ...\n",
      " $ bigcon_weather.max_ws : num  2.5 2.5 2.5 3.6 3.6 1.8 1.8 1.8 4.6 4.6 ...\n",
      " $ bigcon_weather.min_ta : num  -5 -5 -5 3 3 2 2 2 -3.4 -3.4 ...\n",
      " $ bigcon_weather.avg_ta : num  1.2 1.2 1.2 6.4 6.4 5.4 5.4 5.4 1.4 1.4 ...\n",
      " $ bigcon_weather.avg_rhm: int  73 73 73 73 73 87 87 87 58 58 ...\n",
      " $ bigcon_weather.avg_ws : num  0.6 0.6 0.6 1.7 1.7 0.2 0.2 0.2 1.6 1.6 ...\n",
      " $ bigcon_weather.sum_rn : num  0 0 0 0 0 0 0 0 0 0 ...\n",
      " $ korea_hnb.qty         : int  255 73 255 36 109 73 109 182 36 109 ...\n"
     ]
    }
   ],
   "source": [
    "# 연속형 변수만 추출\n",
    "\n",
    "lip_total_data_linear <- lip_total_data[,c(5,6,7,8,9,10,11,15)]\n",
    "\n",
    "str(lip_total_data_linear)"
   ]
  },
  {
   "cell_type": "code",
   "execution_count": 19,
   "metadata": {},
   "outputs": [
    {
     "data": {
      "text/plain": [
       "\n",
       "Call:\n",
       "lm(formula = korea_hnb.qty ~ ., data = lip_total_data_linear)\n",
       "\n",
       "Residuals:\n",
       "    Min      1Q  Median      3Q     Max \n",
       " -312.8  -141.1   -93.0    13.2 18179.5 \n",
       "\n",
       "Coefficients:\n",
       "                        Estimate Std. Error t value Pr(>|t|)    \n",
       "(Intercept)            250.79682    8.25537  30.380  < 2e-16 ***\n",
       "bigcon_weather.max_ta   -2.12156    1.23201  -1.722   0.0851 .  \n",
       "bigcon_weather.max_ws   -8.01833    1.92553  -4.164 3.13e-05 ***\n",
       "bigcon_weather.min_ta    4.92432    1.19524   4.120 3.80e-05 ***\n",
       "bigcon_weather.avg_ta   -1.72752    2.27934  -0.758   0.4485    \n",
       "bigcon_weather.avg_rhm  -1.13950    0.07897 -14.430  < 2e-16 ***\n",
       "bigcon_weather.avg_ws   37.32775    3.53017  10.574  < 2e-16 ***\n",
       "bigcon_weather.sum_rn   -0.56062    0.13021  -4.305 1.67e-05 ***\n",
       "---\n",
       "Signif. codes:  0 '***' 0.001 '**' 0.01 '*' 0.05 '.' 0.1 ' ' 1\n",
       "\n",
       "Residual standard error: 335 on 60271 degrees of freedom\n",
       "  (34096 observations deleted due to missingness)\n",
       "Multiple R-squared:  0.01083,\tAdjusted R-squared:  0.01072 \n",
       "F-statistic: 94.31 on 7 and 60271 DF,  p-value: < 2.2e-16\n"
      ]
     },
     "metadata": {},
     "output_type": "display_data"
    },
    {
     "name": "stdout",
     "output_type": "stream",
     "text": [
      "'data.frame':\t94375 obs. of  6 variables:\n",
      " $ bigcon_weather.max_ws : num  2.5 2.5 2.5 3.6 3.6 1.8 1.8 1.8 4.6 4.6 ...\n",
      " $ bigcon_weather.min_ta : num  -5 -5 -5 3 3 2 2 2 -3.4 -3.4 ...\n",
      " $ bigcon_weather.avg_rhm: int  73 73 73 73 73 87 87 87 58 58 ...\n",
      " $ bigcon_weather.avg_ws : num  0.6 0.6 0.6 1.7 1.7 0.2 0.2 0.2 1.6 1.6 ...\n",
      " $ bigcon_weather.sum_rn : num  0 0 0 0 0 0 0 0 0 0 ...\n",
      " $ korea_hnb.qty         : int  255 73 255 36 109 73 109 182 36 109 ...\n"
     ]
    }
   ],
   "source": [
    "m <- lm(korea_hnb.qty~.,data = lip_total_data_linear)\n",
    "summary(m)\n",
    "\n",
    "# max_ta, avg_ta 는 통계적으로 유의하지 않음. -> 제거\n",
    "\n",
    "lip_total_data_linear2 <- lip_total_data_linear[,c(2,3,5,6,7,8)]\n",
    "\n",
    "str(lip_total_data_linear2)"
   ]
  },
  {
   "cell_type": "code",
   "execution_count": 20,
   "metadata": {},
   "outputs": [
    {
     "data": {
      "image/png": "[encoded data removed]",
      "text/plain": [
       "Plot with title \"\""
      ]
     },
     "metadata": {},
     "output_type": "display_data"
    },
    {
     "data": {
      "image/png": "[encoded data removed]",
      "text/plain": [
       "Plot with title \"\""
      ]
     },
     "metadata": {},
     "output_type": "display_data"
    },
    {
     "data": {
      "image/png": "[encoded data removed]",
      "text/plain": [
       "Plot with title \"\""
      ]
     },
     "metadata": {},
     "output_type": "display_data"
    },
    {
     "data": {
      "image/png": "[encoded data removed]",
      "text/plain": [
       "Plot with title \"\""
      ]
     },
     "metadata": {},
     "output_type": "display_data"
    }
   ],
   "source": [
    "# 잔차 \n",
    "\n",
    "plot(m)"
   ]
  },
  {
   "cell_type": "markdown",
   "metadata": {},
   "source": [
    "### LASSO (최적 변수선택)"
   ]
  },
  {
   "cell_type": "code",
   "execution_count": 21,
   "metadata": {},
   "outputs": [
    {
     "name": "stdout",
     "output_type": "stream",
     "text": [
      "'data.frame':\t94375 obs. of  6 variables:\n",
      " $ bigcon_weather.max_ws : num  2.5 2.5 2.5 3.6 3.6 1.8 1.8 1.8 4.6 4.6 ...\n",
      " $ bigcon_weather.min_ta : num  -5 -5 -5 3 3 2 2 2 -3.4 -3.4 ...\n",
      " $ bigcon_weather.avg_rhm: int  73 73 73 73 73 87 87 87 58 58 ...\n",
      " $ bigcon_weather.avg_ws : num  0.6 0.6 0.6 1.7 1.7 0.2 0.2 0.2 1.6 1.6 ...\n",
      " $ bigcon_weather.sum_rn : num  0 0 0 0 0 0 0 0 0 0 ...\n",
      " $ korea_hnb.qty         : int  255 73 255 36 109 73 109 182 36 109 ...\n"
     ]
    },
    {
     "data": {
      "text/html": [
       "<dl class=dl-horizontal>\n",
       "\t<dt>bigcon_weather.max_ws</dt>\n",
       "\t\t<dd>597</dd>\n",
       "\t<dt>bigcon_weather.min_ta</dt>\n",
       "\t\t<dd>517</dd>\n",
       "\t<dt>bigcon_weather.avg_rhm</dt>\n",
       "\t\t<dd>33879</dd>\n",
       "\t<dt>bigcon_weather.avg_ws</dt>\n",
       "\t\t<dd>535</dd>\n",
       "\t<dt>bigcon_weather.sum_rn</dt>\n",
       "\t\t<dd>134</dd>\n",
       "\t<dt>korea_hnb.qty</dt>\n",
       "\t\t<dd>0</dd>\n",
       "</dl>\n"
      ],
      "text/latex": [
       "\\begin{description*}\n",
       "\\item[bigcon\\textbackslash{}\\_weather.max\\textbackslash{}\\_ws] 597\n",
       "\\item[bigcon\\textbackslash{}\\_weather.min\\textbackslash{}\\_ta] 517\n",
       "\\item[bigcon\\textbackslash{}\\_weather.avg\\textbackslash{}\\_rhm] 33879\n",
       "\\item[bigcon\\textbackslash{}\\_weather.avg\\textbackslash{}\\_ws] 535\n",
       "\\item[bigcon\\textbackslash{}\\_weather.sum\\textbackslash{}\\_rn] 134\n",
       "\\item[korea\\textbackslash{}\\_hnb.qty] 0\n",
       "\\end{description*}\n"
      ],
      "text/markdown": [
       "bigcon_weather.max_ws\n",
       ":   597bigcon_weather.min_ta\n",
       ":   517bigcon_weather.avg_rhm\n",
       ":   33879bigcon_weather.avg_ws\n",
       ":   535bigcon_weather.sum_rn\n",
       ":   134korea_hnb.qty\n",
       ":   0\n",
       "\n"
      ],
      "text/plain": [
       " bigcon_weather.max_ws  bigcon_weather.min_ta bigcon_weather.avg_rhm \n",
       "                   597                    517                  33879 \n",
       " bigcon_weather.avg_ws  bigcon_weather.sum_rn          korea_hnb.qty \n",
       "                   535                    134                      0 "
      ]
     },
     "metadata": {},
     "output_type": "display_data"
    }
   ],
   "source": [
    "str(lip_total_data_linear2)\n",
    "\n",
    "colSums(is.na(lip_total_data_linear2))"
   ]
  },
  {
   "cell_type": "code",
   "execution_count": 22,
   "metadata": {},
   "outputs": [],
   "source": [
    "# 독립변수들을 matrix 형태로 준비해야한다.\n",
    "\n",
    "xmat <- as.matrix(lip_total_data_linear2[1:5])"
   ]
  },
  {
   "cell_type": "code",
   "execution_count": 23,
   "metadata": {},
   "outputs": [
    {
     "name": "stderr",
     "output_type": "stream",
     "text": [
      "Warning message:\n",
      "\"package 'glmnet' was built under R version 3.6.1\"Loading required package: Matrix\n",
      "Loading required package: foreach\n",
      "Loaded glmnet 2.0-18\n",
      "\n"
     ]
    },
    {
     "ename": "ERROR",
     "evalue": "Error in elnet(x, is.sparse, ix, jx, y, weights, offset, type.gaussian, : 외부 함수 호출시 NA/NaN/Inf가 있습니다 (인자 5)\n",
     "output_type": "error",
     "traceback": [
      "Error in elnet(x, is.sparse, ix, jx, y, weights, offset, type.gaussian, : 외부 함수 호출시 NA/NaN/Inf가 있습니다 (인자 5)\nTraceback:\n",
      "1. glmnet(x = xmat, y = yvec, alpha = 1, nlambda = 200)",
      "2. elnet(x, is.sparse, ix, jx, y, weights, offset, type.gaussian, \n .     alpha, nobs, nvars, jd, vp, cl, ne, nx, nlam, flmin, ulam, \n .     thresh, isd, intr, vnames, maxit)"
     ]
    }
   ],
   "source": [
    "yvec <- lip_total_data_linear2$korea_hnb.qty # 독립변수를 vector 형태로 \n",
    "\n",
    "library(glmnet)\n",
    "fit.lasso <- glmnet(x=xmat, y=yvec, alpha = 1, nlambda = 200) #알파 1은 Lasso 수행옵션, 100개람다 생성\n",
    "fit.lasso.cv <- cv.glmnet(x=xmat, y=yvec, nfolds =10, alpha = 1, lambda = fit.lasso$lambda)\n",
    "plot(fit.lasso.cv)"
   ]
  },
  {
   "cell_type": "markdown",
   "metadata": {},
   "source": [
    "### lasso 는 na 값 채우고 다시시행해야 함."
   ]
  }
 ],
 "metadata": {
  "kernelspec": {
   "display_name": "R",
   "language": "R",
   "name": "ir"
  },
  "language_info": {
   "codemirror_mode": "r",
   "file_extension": ".r",
   "mimetype": "text/x-r-source",
   "name": "R",
   "pygments_lexer": "r",
   "version": "3.6.0"
  }
 },
 "nbformat": 4,
 "nbformat_minor": 2
}
