{
 "cells": [
  {
   "cell_type": "markdown",
   "metadata": {},
   "source": [
    "# Signature Table"
   ]
  },
  {
   "cell_type": "markdown",
   "metadata": {},
   "source": [
    "### library load"
   ]
  },
  {
   "cell_type": "code",
   "execution_count": 1,
   "metadata": {},
   "outputs": [
    {
     "name": "stderr",
     "output_type": "stream",
     "text": [
      "Warning message:\n",
      "\"package 'readxl' was built under R version 3.6.1\"\n",
      "Attaching package: 'dplyr'\n",
      "\n",
      "The following objects are masked from 'package:stats':\n",
      "\n",
      "    filter, lag\n",
      "\n",
      "The following objects are masked from 'package:base':\n",
      "\n",
      "    intersect, setdiff, setequal, union\n",
      "\n"
     ]
    }
   ],
   "source": [
    "library(readxl)\n",
    "library(dplyr)"
   ]
  },
  {
   "cell_type": "markdown",
   "metadata": {},
   "source": [
    "### Data load"
   ]
  },
  {
   "cell_type": "markdown",
   "metadata": {},
   "source": [
    "### Data Scan"
   ]
  },
  {
   "cell_type": "code",
   "execution_count": 5,
   "metadata": {},
   "outputs": [
    {
     "data": {
      "text/html": [
       "<table>\n",
       "<thead><tr><th scope=col>OrderDate</th><th scope=col>SapID</th><th scope=col>OrderNo</th><th scope=col>SoldToParty</th><th scope=col>FdealerName</th><th scope=col>ItemType</th><th scope=col>ItemNo</th><th scope=col>ItemName</th><th scope=col>MarketPriceAmt</th><th scope=col>RDC</th><th scope=col>CancelCode</th><th scope=col>DealerPriceAmt</th><th scope=col>C53Amt</th><th scope=col>DeliveryStatus</th><th scope=col>OrderStatus</th><th scope=col>Code</th><th scope=col>OrderQty</th></tr></thead>\n",
       "<tbody>\n",
       "</tbody>\n",
       "</table>\n"
      ],
      "text/latex": [
       "\\begin{tabular}{r|lllllllllllllllll}\n",
       " OrderDate & SapID & OrderNo & SoldToParty & FdealerName & ItemType & ItemNo & ItemName & MarketPriceAmt & RDC & CancelCode & DealerPriceAmt & C53Amt & DeliveryStatus & OrderStatus & Code & OrderQty\\\\\n",
       "\\hline\n",
       "\\end{tabular}\n"
      ],
      "text/markdown": [
       "\n",
       "| OrderDate | SapID | OrderNo | SoldToParty | FdealerName | ItemType | ItemNo | ItemName | MarketPriceAmt | RDC | CancelCode | DealerPriceAmt | C53Amt | DeliveryStatus | OrderStatus | Code | OrderQty |\n",
       "|---|---|---|---|---|---|---|---|---|---|---|---|---|---|---|---|---|\n",
       "\n"
      ],
      "text/plain": [
       "     OrderDate SapID OrderNo SoldToParty FdealerName ItemType ItemNo ItemName\n",
       "     MarketPriceAmt RDC CancelCode DealerPriceAmt C53Amt DeliveryStatus\n",
       "     OrderStatus Code OrderQty"
      ]
     },
     "metadata": {},
     "output_type": "display_data"
    },
    {
     "name": "stdout",
     "output_type": "stream",
     "text": [
      "Classes 'tbl_df', 'tbl' and 'data.frame':\t266298 obs. of  17 variables:\n",
      " $ OrderDate     : POSIXct, format: \"2015-01-05\" \"2015-01-05\" ...\n",
      " $ SapID         : chr  \"15698\" \"15698\" \"15698\" \"15698\" ...\n",
      " $ OrderNo       : chr  \"ORDERW_00075421-K\" \"ORDERW_00075421-K\" \"ORDERW_00075421-K\" \"ORDERW_00075421-K\" ...\n",
      " $ SoldToParty   : chr  \"1001822\" \"1001822\" \"1001822\" \"1001822\" ...\n",
      " $ FdealerName   : chr  \"李<U+4F1A><U+8273>\" \"李<U+4F1A><U+8273>\" \"李<U+4F1A><U+8273>\" \"李<U+4F1A><U+8273>\" ...\n",
      " $ ItemType      : chr  \"TAN\" \"TAN\" \"TAN\" \"TAN\" ...\n",
      " $ ItemNo        : chr  \"AGE00021\" \"AGE00038\" \"CNM00007\" \"ZPM10129\" ...\n",
      " $ ItemName      : chr  \"珂露曼按摩霜\" \"珂露曼臻美防<U+76B1>系列（<U+6DA6><U+80A4>水+乳液<U+4E24>件套）\" \"美特<U+4E3D><U+4E1D><U+78B3><U+7EA4><U+7EF4>褥<U+57AB>1519\" \"<U+6E7F><U+7EB8>巾\" ...\n",
      " $ MarketPriceAmt: num  4000 3200 12840 104 260 ...\n",
      " $ RDC           : chr  \"6004\" \"6004\" \"6004\" \"6004\" ...\n",
      " $ CancelCode    : chr  \"04\" \"04\" \"04\" \"04\" ...\n",
      " $ DealerPriceAmt: num  1000 800 4879 104 65 ...\n",
      " $ C53Amt        : num  2120 1696 6805 104 138 ...\n",
      " $ DeliveryStatus: chr  \"A\" \"A\" \"A\" \"A\" ...\n",
      " $ OrderStatus   : chr  \"C\" \"C\" \"C\" \"C\" ...\n",
      " $ Code          : chr  \"10\" \"20\" \"30\" \"40\" ...\n",
      " $ OrderQty      : num  20 5 3 4 2 2 4 1 200 6 ...\n"
     ]
    },
    {
     "data": {
      "text/html": [
       "262657"
      ],
      "text/latex": [
       "262657"
      ],
      "text/markdown": [
       "262657"
      ],
      "text/plain": [
       "[1] 262657"
      ]
     },
     "metadata": {},
     "output_type": "display_data"
    }
   ],
   "source": [
    "# 3월 8월 soldtoparty numeric to char\n",
    "\n",
    "head(order1501,0)\n",
    "str(order1501)\n",
    "sum(is.na(order1501$CancelCode))"
   ]
  },
  {
   "cell_type": "markdown",
   "metadata": {},
   "source": [
    "### Order Data Cleaning"
   ]
  },
  {
   "cell_type": "code",
   "execution_count": 6,
   "metadata": {},
   "outputs": [],
   "source": [
    "order1501_ <- order1501  %>% \n",
    "filter(CancelCode !=\"04\" , ItemType == \"TAN\")  %>% \n",
    "select(SoldToParty, DealerPriceAmt, OrderQty, MarketPriceAmt) %>%\n",
    "group_by(SoldToParty) %>% \n",
    "summarize(mean_price=mean(DealerPriceAmt), mean_qty=mean(OrderQty), sum_price_market = sum(MarketPriceAmt), month =1)\n",
    "\n",
    "order1502_ <- order1502  %>% \n",
    "filter(CancelCode !=\"04\" , ItemType == \"TAN\")  %>% \n",
    "select(SoldToParty, DealerPriceAmt, OrderQty, MarketPriceAmt) %>%\n",
    "group_by(SoldToParty) %>% \n",
    "summarize(mean_price=mean(DealerPriceAmt), mean_qty=mean(OrderQty), sum_price_market = sum(MarketPriceAmt), month=2)\n",
    "\n",
    "order1503_ <- order1503  %>% \n",
    "filter(CancelCode !=\"04\" , ItemType == \"TAN\")  %>% \n",
    "select(SoldToParty, DealerPriceAmt, OrderQty, MarketPriceAmt) %>%\n",
    "group_by(SoldToParty) %>% \n",
    "summarize(mean_price=mean(DealerPriceAmt), mean_qty=mean(OrderQty), sum_price_market = sum(MarketPriceAmt), month =3)\n",
    "\n",
    "order1504_ <- order1504  %>% \n",
    "filter(CancelCode !=\"04\" , ItemType == \"TAN\")  %>% \n",
    "select(SoldToParty, DealerPriceAmt, OrderQty, MarketPriceAmt) %>%\n",
    "group_by(SoldToParty) %>% \n",
    "summarize(mean_price=mean(DealerPriceAmt), mean_qty=mean(OrderQty), sum_price_market = sum(MarketPriceAmt), month =4)\n",
    "\n",
    "order1505_ <- order1505  %>% \n",
    "filter(CancelCode !=\"04\" , ItemType == \"TAN\")  %>% \n",
    "select(SoldToParty, DealerPriceAmt, OrderQty, MarketPriceAmt) %>%\n",
    "group_by(SoldToParty) %>% \n",
    "summarize(mean_price=mean(DealerPriceAmt), mean_qty=mean(OrderQty), sum_price_market = sum(MarketPriceAmt), month =5)\n",
    "\n",
    "order1506_ <- order1506  %>% \n",
    "filter(CancelCode !=\"04\" , ItemType == \"TAN\")  %>% \n",
    "select(SoldToParty, DealerPriceAmt, OrderQty, MarketPriceAmt) %>%\n",
    "group_by(SoldToParty) %>% \n",
    "summarize(mean_price=mean(DealerPriceAmt), mean_qty=mean(OrderQty), sum_price_market = sum(MarketPriceAmt), month =6)\n",
    "\n",
    "order1507_ <- order1507  %>% \n",
    "filter(CancelCode !=\"04\" , ItemType == \"TAN\")  %>% \n",
    "select(SoldToParty, DealerPriceAmt, OrderQty, MarketPriceAmt) %>%\n",
    "group_by(SoldToParty) %>% \n",
    "summarize(mean_price=mean(DealerPriceAmt), mean_qty=mean(OrderQty), sum_price_market = sum(MarketPriceAmt), month =7)\n",
    "\n",
    "order1508_ <- order1508  %>% \n",
    "filter(CancelCode !=\"04\" , ItemType == \"TAN\")  %>% \n",
    "select(SoldToParty, DealerPriceAmt, OrderQty, MarketPriceAmt) %>%\n",
    "group_by(SoldToParty) %>% \n",
    "summarize(mean_price=mean(DealerPriceAmt), mean_qty=mean(OrderQty), sum_price_market = sum(MarketPriceAmt), month =8)\n",
    "\n",
    "order1509_ <- order1509  %>% \n",
    "filter(CancelCode !=\"04\" , ItemType == \"TAN\")  %>% \n",
    "select(SoldToParty, DealerPriceAmt, OrderQty, MarketPriceAmt) %>%\n",
    "group_by(SoldToParty) %>% \n",
    "summarize(mean_price=mean(DealerPriceAmt), mean_qty=mean(OrderQty), sum_price_market = sum(MarketPriceAmt), month =9)\n",
    "\n",
    "order1510_ <- order1510  %>% \n",
    "filter(CancelCode !=\"04\" , ItemType == \"TAN\")  %>% \n",
    "select(SoldToParty, DealerPriceAmt, OrderQty, MarketPriceAmt) %>%\n",
    "group_by(SoldToParty) %>% \n",
    "summarize(mean_price=mean(DealerPriceAmt), mean_qty=mean(OrderQty), sum_price_market = sum(MarketPriceAmt), month =10)\n",
    "\n",
    "order1511_ <- order1511  %>% \n",
    "filter(CancelCode !=\"04\" , ItemType == \"TAN\")  %>% \n",
    "select(SoldToParty, DealerPriceAmt, OrderQty, MarketPriceAmt) %>%\n",
    "group_by(SoldToParty) %>% \n",
    "summarize(mean_price=mean(DealerPriceAmt), mean_qty=mean(OrderQty), sum_price_market = sum(MarketPriceAmt), month =11)\n",
    "\n",
    "order1512_ <- order1512  %>% \n",
    "filter(CancelCode !=\"04\" , ItemType == \"TAN\")  %>% \n",
    "select(SoldToParty, DealerPriceAmt, OrderQty, MarketPriceAmt) %>%\n",
    "group_by(SoldToParty) %>% \n",
    "summarize(mean_price=mean(DealerPriceAmt), mean_qty=mean(OrderQty), sum_price_market = sum(MarketPriceAmt), month =12)\n"
   ]
  },
  {
   "cell_type": "markdown",
   "metadata": {},
   "source": [
    "### Merge with fdealer data"
   ]
  },
  {
   "cell_type": "code",
   "execution_count": 7,
   "metadata": {},
   "outputs": [],
   "source": [
    "names(fdealer1501)[1] <- c(\"SoldToParty\")\n",
    "names(fdealer1502)[1] <- c(\"SoldToParty\")\n",
    "names(fdealer1503)[1] <- c(\"SoldToParty\")\n",
    "names(fdealer1504)[1] <- c(\"SoldToParty\")\n",
    "names(fdealer1505)[1] <- c(\"SoldToParty\")\n",
    "names(fdealer1506)[1] <- c(\"SoldToParty\")\n",
    "names(fdealer1507)[1] <- c(\"SoldToParty\")\n",
    "names(fdealer1508)[1] <- c(\"SoldToParty\")\n",
    "names(fdealer1509)[1] <- c(\"SoldToParty\")\n",
    "names(fdealer1510)[1] <- c(\"SoldToParty\")\n",
    "names(fdealer1511)[1] <- c(\"SoldToParty\")\n",
    "names(fdealer1512)[1] <- c(\"SoldToParty\")\n",
    "\n",
    "t_order1501 <- merge(order1501_, fdealer1501 , by='SoldToParty', all=FALSE)\n",
    "t_order1502 <- merge(order1502_, fdealer1502 , by='SoldToParty', all=FALSE)\n",
    "t_order1503 <- merge(order1503_, fdealer1503 , by='SoldToParty', all=FALSE)\n",
    "t_order1504 <- merge(order1504_, fdealer1504 , by='SoldToParty', all=FALSE)\n",
    "t_order1505 <- merge(order1505_, fdealer1505 , by='SoldToParty', all=FALSE)\n",
    "t_order1506 <- merge(order1506_, fdealer1506 , by='SoldToParty', all=FALSE)\n",
    "t_order1507 <- merge(order1507_, fdealer1507 , by='SoldToParty', all=FALSE)\n",
    "t_order1508 <- merge(order1508_, fdealer1508 , by='SoldToParty', all=FALSE)\n",
    "t_order1509 <- merge(order1509_, fdealer1509 , by='SoldToParty', all=FALSE)\n",
    "t_order1510 <- merge(order1510_, fdealer1510 , by='SoldToParty', all=FALSE)\n",
    "t_order1511 <- merge(order1511_, fdealer1511 , by='SoldToParty', all=FALSE)\n",
    "t_order1512 <- merge(order1512_, fdealer1512 , by='SoldToParty', all=FALSE)\n",
    "\n",
    "t_order1501 <- t_order1501[,c(1,2,3,4,5,13)]\n",
    "t_order1502 <- t_order1502[,c(1,2,3,4,5,13)]\n",
    "t_order1503 <- t_order1503[,c(1,2,3,4,5,13)]\n",
    "t_order1504 <- t_order1504[,c(1,2,3,4,5,13)]\n",
    "t_order1505 <- t_order1505[,c(1,2,3,4,5,13)]\n",
    "t_order1506 <- t_order1506[,c(1,2,3,4,5,13)]\n",
    "t_order1507 <- t_order1507[,c(1,2,3,4,5,13)]\n",
    "t_order1508 <- t_order1508[,c(1,2,3,4,5,13)]\n",
    "t_order1509 <- t_order1509[,c(1,2,3,4,5,13)]\n",
    "t_order1510 <- t_order1510[,c(1,2,3,4,5,13)]\n",
    "t_order1511 <- t_order1511[,c(1,2,3,4,5,13)]\n",
    "t_order1512 <- t_order1512[,c(1,2,3,4,5,13)]"
   ]
  },
  {
   "cell_type": "markdown",
   "metadata": {},
   "source": [
    "### Merge with new2018 data"
   ]
  },
  {
   "cell_type": "code",
   "execution_count": 16,
   "metadata": {},
   "outputs": [
    {
     "name": "stdout",
     "output_type": "stream",
     "text": [
      "Classes 'tbl_df', 'tbl' and 'data.frame':\t29841 obs. of  3 variables:\n",
      " $ 대리점코드: num  1e+06 1e+06 1e+06 1e+06 1e+06 ...\n",
      " $ 입사일자  : chr  \"39973\" \"41974\" \"40001\" \"NULL\" ...\n",
      " $ 퇴사일자  : chr  \"42156\" \"42614\" \"42826\" \"42005\" ...\n"
     ]
    }
   ],
   "source": [
    "new2018 <- readxl::read_xlsx(\"C:/Users/juj11/Desktop/실습문제 데이터셋/new2018.xlsx\", col_names= TRUE)\n",
    "\n",
    "str(new2018)"
   ]
  },
  {
   "cell_type": "code",
   "execution_count": 19,
   "metadata": {},
   "outputs": [
    {
     "ename": "ERROR",
     "evalue": "Error in parse(text = x, srcfile = src): <text>:1:4: 예상하지 못한 기호(symbol)입니다.\n1: if new2018\n       ^\n",
     "output_type": "error",
     "traceback": [
      "Error in parse(text = x, srcfile = src): <text>:1:4: 예상하지 못한 기호(symbol)입니다.\n1: if new2018\n       ^\nTraceback:\n"
     ]
    }
   ],
   "source": [
    "if new2018$입사일자 == NA :\n",
    "new2018$입사일자 = mean(new2018$입사일자, na.rm = TRUE)\n",
    "\n",
    "new2018$근속월수 <- as.numeric(new2018$퇴사일자) - as.numeric(new2018$입사일자)\n",
    "\n",
    "str(new2018)"
   ]
  },
  {
   "cell_type": "code",
   "execution_count": 10,
   "metadata": {},
   "outputs": [
    {
     "data": {
      "text/html": [
       "<table>\n",
       "<thead><tr><th scope=col>대리점코드</th><th scope=col>입사일자</th><th scope=col>퇴사일자</th><th scope=col>근속월수</th></tr></thead>\n",
       "<tbody>\n",
       "\t<tr><td>1000001</td><td>39973  </td><td>42156  </td><td>NA days</td></tr>\n",
       "\t<tr><td>1000002</td><td>41974  </td><td>42614  </td><td>NA days</td></tr>\n",
       "\t<tr><td>1000003</td><td>40001  </td><td>42826  </td><td>NA days</td></tr>\n",
       "\t<tr><td>1000004</td><td>NULL   </td><td>42005  </td><td>NA days</td></tr>\n",
       "\t<tr><td>1000005</td><td>41365  </td><td>NULL   </td><td>NA days</td></tr>\n",
       "\t<tr><td>1000006</td><td>NULL   </td><td>42005  </td><td>NA days</td></tr>\n",
       "</tbody>\n",
       "</table>\n"
      ],
      "text/latex": [
       "\\begin{tabular}{r|llll}\n",
       " 대리점코드 & 입사일자 & 퇴사일자 & 근속월수\\\\\n",
       "\\hline\n",
       "\t 1000001 & 39973   & 42156   & NA days\\\\\n",
       "\t 1000002 & 41974   & 42614   & NA days\\\\\n",
       "\t 1000003 & 40001   & 42826   & NA days\\\\\n",
       "\t 1000004 & NULL    & 42005   & NA days\\\\\n",
       "\t 1000005 & 41365   & NULL    & NA days\\\\\n",
       "\t 1000006 & NULL    & 42005   & NA days\\\\\n",
       "\\end{tabular}\n"
      ],
      "text/markdown": [
       "\n",
       "| 대리점코드 | 입사일자 | 퇴사일자 | 근속월수 |\n",
       "|---|---|---|---|\n",
       "| 1000001 | 39973   | 42156   | NA days |\n",
       "| 1000002 | 41974   | 42614   | NA days |\n",
       "| 1000003 | 40001   | 42826   | NA days |\n",
       "| 1000004 | NULL    | 42005   | NA days |\n",
       "| 1000005 | 41365   | NULL    | NA days |\n",
       "| 1000006 | NULL    | 42005   | NA days |\n",
       "\n"
      ],
      "text/plain": [
       "  대리점코드 입사일자 퇴사일자 근속월수\n",
       "1 1000001    39973    42156    NA days \n",
       "2 1000002    41974    42614    NA days \n",
       "3 1000003    40001    42826    NA days \n",
       "4 1000004    NULL     42005    NA days \n",
       "5 1000005    41365    NULL     NA days \n",
       "6 1000006    NULL     42005    NA days "
      ]
     },
     "metadata": {},
     "output_type": "display_data"
    },
    {
     "data": {
      "text/html": [
       "<table>\n",
       "<thead><tr><th scope=col>SoldToParty</th><th scope=col>입사일자</th><th scope=col>퇴사일자</th><th scope=col>근속월수</th></tr></thead>\n",
       "<tbody>\n",
       "\t<tr><td>1000001</td><td>39973  </td><td>42156  </td><td>NA days</td></tr>\n",
       "\t<tr><td>1000002</td><td>41974  </td><td>42614  </td><td>NA days</td></tr>\n",
       "\t<tr><td>1000003</td><td>40001  </td><td>42826  </td><td>NA days</td></tr>\n",
       "\t<tr><td>1000004</td><td>NULL   </td><td>42005  </td><td>NA days</td></tr>\n",
       "\t<tr><td>1000005</td><td>41365  </td><td>NULL   </td><td>NA days</td></tr>\n",
       "\t<tr><td>1000006</td><td>NULL   </td><td>42005  </td><td>NA days</td></tr>\n",
       "</tbody>\n",
       "</table>\n"
      ],
      "text/latex": [
       "\\begin{tabular}{r|llll}\n",
       " SoldToParty & 입사일자 & 퇴사일자 & 근속월수\\\\\n",
       "\\hline\n",
       "\t 1000001 & 39973   & 42156   & NA days\\\\\n",
       "\t 1000002 & 41974   & 42614   & NA days\\\\\n",
       "\t 1000003 & 40001   & 42826   & NA days\\\\\n",
       "\t 1000004 & NULL    & 42005   & NA days\\\\\n",
       "\t 1000005 & 41365   & NULL    & NA days\\\\\n",
       "\t 1000006 & NULL    & 42005   & NA days\\\\\n",
       "\\end{tabular}\n"
      ],
      "text/markdown": [
       "\n",
       "| SoldToParty | 입사일자 | 퇴사일자 | 근속월수 |\n",
       "|---|---|---|---|\n",
       "| 1000001 | 39973   | 42156   | NA days |\n",
       "| 1000002 | 41974   | 42614   | NA days |\n",
       "| 1000003 | 40001   | 42826   | NA days |\n",
       "| 1000004 | NULL    | 42005   | NA days |\n",
       "| 1000005 | 41365   | NULL    | NA days |\n",
       "| 1000006 | NULL    | 42005   | NA days |\n",
       "\n"
      ],
      "text/plain": [
       "  SoldToParty 입사일자 퇴사일자 근속월수\n",
       "1 1000001     39973    42156    NA days \n",
       "2 1000002     41974    42614    NA days \n",
       "3 1000003     40001    42826    NA days \n",
       "4 1000004     NULL     42005    NA days \n",
       "5 1000005     41365    NULL     NA days \n",
       "6 1000006     NULL     42005    NA days "
      ]
     },
     "metadata": {},
     "output_type": "display_data"
    }
   ],
   "source": [
    "head(new2018)\n",
    "names(new2018)[1] <- c(\"SoldToParty\")\n",
    "head(new2018)"
   ]
  },
  {
   "cell_type": "code",
   "execution_count": 11,
   "metadata": {},
   "outputs": [
    {
     "name": "stdout",
     "output_type": "stream",
     "text": [
      "'data.frame':\t1236 obs. of  6 variables:\n",
      " $ SoldToParty     : chr  \"1000038\" \"1000039\" \"1000126\" \"1000136\" ...\n",
      " $ mean_price      : num  50 300 150 125 33.3 ...\n",
      " $ mean_qty        : num  1 6 3 5 1.33 ...\n",
      " $ sum_price_market: num  200 1200 600 500 400 ...\n",
      " $ month           : num  1 1 1 1 1 1 1 1 1 1 ...\n",
      " $ FzCode          : chr  \"1008505\" \"1008505\" \"1008505\" \"1008357\" ...\n"
     ]
    }
   ],
   "source": [
    "order_15_total <- rbind(t_order1501,t_order1502,t_order1503,t_order1504,t_order1505,t_order1506,t_order1507,t_order1508,\n",
    "                       t_order1509,t_order1510,t_order1511,t_order1512)\n",
    "\n",
    "str(order_15_total)\n",
    "\n",
    "t_order_total <- merge(order_15_total, new2018 , by='SoldToParty', all=FALSE)\n"
   ]
  },
  {
   "cell_type": "code",
   "execution_count": 14,
   "metadata": {},
   "outputs": [
    {
     "data": {
      "text/html": [
       "<table>\n",
       "<thead><tr><th></th><th scope=col>SoldToParty</th><th scope=col>mean_price</th><th scope=col>mean_qty</th><th scope=col>sum_price_market</th><th scope=col>month</th><th scope=col>FzCode</th><th scope=col>입사일자</th><th scope=col>퇴사일자</th><th scope=col>근속월수</th></tr></thead>\n",
       "<tbody>\n",
       "\t<tr><th scope=row>1</th><td>1000032  </td><td>985.80000</td><td> 3.000000</td><td> 1860    </td><td>3        </td><td>1008458  </td><td>40057    </td><td>NULL     </td><td>NA days  </td></tr>\n",
       "\t<tr><th scope=row>2</th><td>1000038  </td><td> 50.00000</td><td> 1.000000</td><td>  200    </td><td>1        </td><td>1008505  </td><td>40575    </td><td>NULL     </td><td>NA days  </td></tr>\n",
       "\t<tr><th scope=row>4</th><td>1000039  </td><td>300.00000</td><td> 6.000000</td><td> 1200    </td><td>1        </td><td>1008505  </td><td>40544    </td><td>NULL     </td><td>NA days  </td></tr>\n",
       "\t<tr><th scope=row>3</th><td>1000039  </td><td>140.00000</td><td> 2.000000</td><td>  560    </td><td>3        </td><td>1008505  </td><td>40544    </td><td>NULL     </td><td>NA days  </td></tr>\n",
       "\t<tr><th scope=row>5</th><td>1000069  </td><td> 70.00000</td><td> 1.000000</td><td>  280    </td><td>3        </td><td>1008505  </td><td>39203    </td><td>NULL     </td><td>NA days  </td></tr>\n",
       "\t<tr><th scope=row>6</th><td>1000070  </td><td>190.80000</td><td> 3.000000</td><td>  720    </td><td>4        </td><td>1008492  </td><td>41214    </td><td>NULL     </td><td>NA days  </td></tr>\n",
       "\t<tr><th scope=row>7</th><td>1000072  </td><td>186.25000</td><td> 1.750000</td><td> 2980    </td><td>3        </td><td>1008295  </td><td>41153    </td><td>42675    </td><td>NA days  </td></tr>\n",
       "\t<tr><th scope=row>8</th><td>1000080  </td><td>504.76190</td><td> 3.761905</td><td>20000    </td><td>5        </td><td>1008458  </td><td>39173    </td><td>NULL     </td><td>NA days  </td></tr>\n",
       "\t<tr><th scope=row>9</th><td>1000089  </td><td>100.00000</td><td> 5.000000</td><td>  400    </td><td>4        </td><td>1008434  </td><td>41365    </td><td>NULL     </td><td>NA days  </td></tr>\n",
       "\t<tr><th scope=row>10</th><td>1000105  </td><td> 84.80000</td><td> 2.000000</td><td>  160    </td><td>4        </td><td>1008434  </td><td>41153    </td><td>NULL     </td><td>NA days  </td></tr>\n",
       "\t<tr><th scope=row>11</th><td>1000117  </td><td>466.40000</td><td>11.000000</td><td>  880    </td><td>3        </td><td>1008512  </td><td>40431    </td><td>NULL     </td><td>NA days  </td></tr>\n",
       "\t<tr><th scope=row>12</th><td>1000124  </td><td>140.00000</td><td> 2.000000</td><td>  560    </td><td>3        </td><td>1008505  </td><td>38718    </td><td>NULL     </td><td>NA days  </td></tr>\n",
       "\t<tr><th scope=row>13</th><td>1000124  </td><td> 60.00000</td><td> 3.000000</td><td>  240    </td><td>4        </td><td>1008505  </td><td>38718    </td><td>NULL     </td><td>NA days  </td></tr>\n",
       "\t<tr><th scope=row>14</th><td>1000126  </td><td>150.00000</td><td> 3.000000</td><td>  600    </td><td>1        </td><td>1008505  </td><td>38991    </td><td>NULL     </td><td>NA days  </td></tr>\n",
       "\t<tr><th scope=row>15</th><td>1000126  </td><td> 70.00000</td><td> 1.000000</td><td>  280    </td><td>3        </td><td>1008505  </td><td>38991    </td><td>NULL     </td><td>NA days  </td></tr>\n",
       "\t<tr><th scope=row>16</th><td>1000136  </td><td>125.00000</td><td> 5.000000</td><td>  500    </td><td>1        </td><td>1008357  </td><td>42705    </td><td>NULL     </td><td>NA days  </td></tr>\n",
       "\t<tr><th scope=row>17</th><td>1000153  </td><td> 33.33333</td><td> 1.333333</td><td>  400    </td><td>1        </td><td>1008458  </td><td>38060    </td><td>NULL     </td><td>NA days  </td></tr>\n",
       "\t<tr><th scope=row>18</th><td>1000161  </td><td>660.73333</td><td> 5.466667</td><td>18700    </td><td>1        </td><td>1008512  </td><td>41760    </td><td>43160    </td><td>NA days  </td></tr>\n",
       "\t<tr><th scope=row>19</th><td>1000199  </td><td> 80.00000</td><td> 4.000000</td><td>  320    </td><td>4        </td><td>1008505  </td><td>41791    </td><td>NULL     </td><td>NA days  </td></tr>\n",
       "\t<tr><th scope=row>20</th><td>1000200  </td><td>100.00000</td><td> 2.000000</td><td>  400    </td><td>1        </td><td>1008505  </td><td>39142    </td><td>NULL     </td><td>NA days  </td></tr>\n",
       "\t<tr><th scope=row>22</th><td>1000200  </td><td>139.16667</td><td> 1.000000</td><td> 1670    </td><td>3        </td><td>1008505  </td><td>39142    </td><td>NULL     </td><td>NA days  </td></tr>\n",
       "\t<tr><th scope=row>21</th><td>1000200  </td><td>107.50000</td><td> 1.000000</td><td>  430    </td><td>4        </td><td>1008505  </td><td>39142    </td><td>NULL     </td><td>NA days  </td></tr>\n",
       "\t<tr><th scope=row>23</th><td>1000208  </td><td>106.00000</td><td> 1.000000</td><td>  200    </td><td>1        </td><td>1008539  </td><td>40121    </td><td>NULL     </td><td>NA days  </td></tr>\n",
       "\t<tr><th scope=row>25</th><td>1000211  </td><td>200.00000</td><td> 4.000000</td><td>  800    </td><td>1        </td><td>1008539  </td><td>39087    </td><td>42430    </td><td>NA days  </td></tr>\n",
       "\t<tr><th scope=row>24</th><td>1000211  </td><td>490.00000</td><td> 7.000000</td><td> 1960    </td><td>3        </td><td>1008539  </td><td>39087    </td><td>42430    </td><td>NA days  </td></tr>\n",
       "\t<tr><th scope=row>26</th><td>1000254  </td><td>350.00000</td><td> 5.000000</td><td> 1400    </td><td>3        </td><td>1008505  </td><td>40544    </td><td>NULL     </td><td>NA days  </td></tr>\n",
       "\t<tr><th scope=row>27</th><td>1000270  </td><td>210.00000</td><td> 3.000000</td><td>  840    </td><td>3        </td><td>1008328  </td><td>41456    </td><td>42401    </td><td>NA days  </td></tr>\n",
       "\t<tr><th scope=row>28</th><td>1000275  </td><td>243.80000</td><td> 2.000000</td><td>  460    </td><td>3        </td><td>1008472  </td><td>39539    </td><td>NULL     </td><td>NA days  </td></tr>\n",
       "\t<tr><th scope=row>29</th><td>1000289  </td><td>678.40000</td><td>16.000000</td><td> 1280    </td><td>4        </td><td>1008434  </td><td>40124    </td><td>42156    </td><td>NA days  </td></tr>\n",
       "\t<tr><th scope=row>30</th><td>1000290  </td><td>354.34286</td><td> 2.642857</td><td>18720    </td><td>1        </td><td>1008347  </td><td>39600    </td><td>NULL     </td><td>NA days  </td></tr>\n",
       "\t<tr><th scope=row>...</th><td>...</td><td>...</td><td>...</td><td>...</td><td>...</td><td>...</td><td>...</td><td>...</td><td>...</td></tr>\n",
       "\t<tr><th scope=row>1204</th><td>1014706  </td><td> 200.0000</td><td>10.000000</td><td>   800   </td><td> 4       </td><td>1008434  </td><td>42705    </td><td>42917    </td><td>NA days  </td></tr>\n",
       "\t<tr><th scope=row>1205</th><td>1014780  </td><td> 150.0000</td><td> 5.000000</td><td>   600   </td><td> 4       </td><td>1008458  </td><td>42095    </td><td>43025    </td><td>NA days  </td></tr>\n",
       "\t<tr><th scope=row>1206</th><td>1014811  </td><td> 726.1000</td><td> 7.000000</td><td>  2740   </td><td> 4       </td><td>1008472  </td><td>42095    </td><td>43025    </td><td>NA days  </td></tr>\n",
       "\t<tr><th scope=row>1207</th><td>1014851  </td><td> 645.6286</td><td> 8.285714</td><td> 15020   </td><td> 4       </td><td>1008357  </td><td>42095    </td><td>NULL     </td><td>NA days  </td></tr>\n",
       "\t<tr><th scope=row>1208</th><td>1014859  </td><td> 432.6314</td><td> 3.877551</td><td> 39998   </td><td> 8       </td><td>1008505  </td><td>42095    </td><td>42401    </td><td>NA days  </td></tr>\n",
       "\t<tr><th scope=row>1209</th><td>1015026  </td><td> 700.0000</td><td>10.000000</td><td>  2800   </td><td> 5       </td><td>1008403  </td><td>42125    </td><td>42522    </td><td>NA days  </td></tr>\n",
       "\t<tr><th scope=row>1210</th><td>1015027  </td><td> 280.0000</td><td> 4.000000</td><td>  2240   </td><td> 5       </td><td>1008403  </td><td>42125    </td><td>NULL     </td><td>NA days  </td></tr>\n",
       "\t<tr><th scope=row>1211</th><td>1015036  </td><td> 653.3333</td><td> 9.333333</td><td>  7840   </td><td> 5       </td><td>1008403  </td><td>42125    </td><td>42522    </td><td>NA days  </td></tr>\n",
       "\t<tr><th scope=row>1212</th><td>1015071  </td><td> 700.0000</td><td>10.000000</td><td>  2800   </td><td> 5       </td><td>1008403  </td><td>42125    </td><td>42675    </td><td>NA days  </td></tr>\n",
       "\t<tr><th scope=row>1213</th><td>1015084  </td><td> 698.7500</td><td> 9.000000</td><td>  5590   </td><td> 5       </td><td>1008403  </td><td>42125    </td><td>NULL     </td><td>NA days  </td></tr>\n",
       "\t<tr><th scope=row>1214</th><td>1015163  </td><td> 237.4375</td><td> 3.750000</td><td>  7598   </td><td> 5       </td><td>1008357  </td><td>42125    </td><td>NULL     </td><td>NA days  </td></tr>\n",
       "\t<tr><th scope=row>1215</th><td>1015292  </td><td> 584.9375</td><td> 4.187500</td><td> 30000   </td><td>12       </td><td>1008385  </td><td>42125    </td><td>NULL     </td><td>NA days  </td></tr>\n",
       "\t<tr><th scope=row>1216</th><td>1015307  </td><td> 592.8200</td><td> 4.100000</td><td> 20000   </td><td>12       </td><td>1008365  </td><td>42125    </td><td>NULL     </td><td>NA days  </td></tr>\n",
       "\t<tr><th scope=row>1217</th><td>1015546  </td><td> 307.5436</td><td> 2.538462</td><td> 40000   </td><td>12       </td><td>1008357  </td><td>42156    </td><td>NULL     </td><td>NA days  </td></tr>\n",
       "\t<tr><th scope=row>1218</th><td>1016213  </td><td>1177.7778</td><td> 8.666667</td><td> 20000   </td><td>12       </td><td>1008512  </td><td>42186    </td><td>NULL     </td><td>NA days  </td></tr>\n",
       "\t<tr><th scope=row>1219</th><td>1016502  </td><td> 875.0000</td><td> 5.000000</td><td>  3500   </td><td>12       </td><td>1008295  </td><td>43009    </td><td>NULL     </td><td>NA days  </td></tr>\n",
       "\t<tr><th scope=row>1220</th><td>1016676  </td><td>2876.1333</td><td> 6.500000</td><td> 32560   </td><td> 8       </td><td>1008434  </td><td>42217    </td><td>NULL     </td><td>NA days  </td></tr>\n",
       "\t<tr><th scope=row>1221</th><td>1016695  </td><td>2500.0000</td><td>75.000000</td><td> 20000   </td><td> 8       </td><td>1008365  </td><td>42217    </td><td>NULL     </td><td>NA days  </td></tr>\n",
       "\t<tr><th scope=row>1222</th><td>1016697  </td><td>2505.6000</td><td> 1.666667</td><td> 20000   </td><td> 8       </td><td>1008365  </td><td>42217    </td><td>NULL     </td><td>NA days  </td></tr>\n",
       "\t<tr><th scope=row>1223</th><td>1017068  </td><td> 586.9091</td><td> 3.363636</td><td> 20130   </td><td>12       </td><td>1008357  </td><td>42248    </td><td>42583    </td><td>NA days  </td></tr>\n",
       "\t<tr><th scope=row>1224</th><td>1017454  </td><td>3765.5500</td><td> 3.000000</td><td> 40000   </td><td>12       </td><td>1008365  </td><td>42278    </td><td>42491    </td><td>NA days  </td></tr>\n",
       "\t<tr><th scope=row>1225</th><td>1017643  </td><td>5023.7640</td><td> 5.000000</td><td> 47394   </td><td>12       </td><td>1008347  </td><td>42309    </td><td>42614    </td><td>NA days  </td></tr>\n",
       "\t<tr><th scope=row>1226</th><td>1017885  </td><td>  55.0000</td><td> 1.000000</td><td>   220   </td><td>12       </td><td>1008365  </td><td>43101    </td><td>NULL     </td><td>NA days  </td></tr>\n",
       "\t<tr><th scope=row>1227</th><td>1017979  </td><td> 481.6667</td><td> 6.666667</td><td>  5000   </td><td>12       </td><td>1008295  </td><td>42309    </td><td>42461    </td><td>NA days  </td></tr>\n",
       "\t<tr><th scope=row>1228</th><td>1018342  </td><td>2862.0000</td><td> 1.000000</td><td>  5400   </td><td>12       </td><td>1008539  </td><td>42339    </td><td>NULL     </td><td>NA days  </td></tr>\n",
       "\t<tr><th scope=row>1229</th><td>1018359  </td><td>1800.0000</td><td>15.000000</td><td>  7200   </td><td>12       </td><td>1008492  </td><td>42491    </td><td>42856    </td><td>NA days  </td></tr>\n",
       "\t<tr><th scope=row>1230</th><td>1018362  </td><td>3981.2500</td><td>35.000000</td><td> 31850   </td><td>12       </td><td>1008492  </td><td>43101    </td><td>NULL     </td><td>NA days  </td></tr>\n",
       "\t<tr><th scope=row>1231</th><td>1018436  </td><td> 841.9952</td><td> 5.500000</td><td>120000   </td><td>12       </td><td>1008365  </td><td>42339    </td><td>NULL     </td><td>NA days  </td></tr>\n",
       "\t<tr><th scope=row>1232</th><td>1018489  </td><td> 245.0000</td><td> 1.000000</td><td>   980   </td><td>12       </td><td>1008365  </td><td>42339    </td><td>42614    </td><td>NA days  </td></tr>\n",
       "\t<tr><th scope=row>1233</th><td>1018692  </td><td> 540.6000</td><td> 3.000000</td><td>  1020   </td><td>12       </td><td>1008539  </td><td>42339    </td><td>42461    </td><td>NA days  </td></tr>\n",
       "</tbody>\n",
       "</table>\n"
      ],
      "text/latex": [
       "\\begin{tabular}{r|lllllllll}\n",
       "  & SoldToParty & mean\\_price & mean\\_qty & sum\\_price\\_market & month & FzCode & 입사일자 & 퇴사일자 & 근속월수\\\\\n",
       "\\hline\n",
       "\t1 & 1000032   & 985.80000 &  3.000000 &  1860     & 3         & 1008458   & 40057     & NULL      & NA days  \\\\\n",
       "\t2 & 1000038   &  50.00000 &  1.000000 &   200     & 1         & 1008505   & 40575     & NULL      & NA days  \\\\\n",
       "\t4 & 1000039   & 300.00000 &  6.000000 &  1200     & 1         & 1008505   & 40544     & NULL      & NA days  \\\\\n",
       "\t3 & 1000039   & 140.00000 &  2.000000 &   560     & 3         & 1008505   & 40544     & NULL      & NA days  \\\\\n",
       "\t5 & 1000069   &  70.00000 &  1.000000 &   280     & 3         & 1008505   & 39203     & NULL      & NA days  \\\\\n",
       "\t6 & 1000070   & 190.80000 &  3.000000 &   720     & 4         & 1008492   & 41214     & NULL      & NA days  \\\\\n",
       "\t7 & 1000072   & 186.25000 &  1.750000 &  2980     & 3         & 1008295   & 41153     & 42675     & NA days  \\\\\n",
       "\t8 & 1000080   & 504.76190 &  3.761905 & 20000     & 5         & 1008458   & 39173     & NULL      & NA days  \\\\\n",
       "\t9 & 1000089   & 100.00000 &  5.000000 &   400     & 4         & 1008434   & 41365     & NULL      & NA days  \\\\\n",
       "\t10 & 1000105   &  84.80000 &  2.000000 &   160     & 4         & 1008434   & 41153     & NULL      & NA days  \\\\\n",
       "\t11 & 1000117   & 466.40000 & 11.000000 &   880     & 3         & 1008512   & 40431     & NULL      & NA days  \\\\\n",
       "\t12 & 1000124   & 140.00000 &  2.000000 &   560     & 3         & 1008505   & 38718     & NULL      & NA days  \\\\\n",
       "\t13 & 1000124   &  60.00000 &  3.000000 &   240     & 4         & 1008505   & 38718     & NULL      & NA days  \\\\\n",
       "\t14 & 1000126   & 150.00000 &  3.000000 &   600     & 1         & 1008505   & 38991     & NULL      & NA days  \\\\\n",
       "\t15 & 1000126   &  70.00000 &  1.000000 &   280     & 3         & 1008505   & 38991     & NULL      & NA days  \\\\\n",
       "\t16 & 1000136   & 125.00000 &  5.000000 &   500     & 1         & 1008357   & 42705     & NULL      & NA days  \\\\\n",
       "\t17 & 1000153   &  33.33333 &  1.333333 &   400     & 1         & 1008458   & 38060     & NULL      & NA days  \\\\\n",
       "\t18 & 1000161   & 660.73333 &  5.466667 & 18700     & 1         & 1008512   & 41760     & 43160     & NA days  \\\\\n",
       "\t19 & 1000199   &  80.00000 &  4.000000 &   320     & 4         & 1008505   & 41791     & NULL      & NA days  \\\\\n",
       "\t20 & 1000200   & 100.00000 &  2.000000 &   400     & 1         & 1008505   & 39142     & NULL      & NA days  \\\\\n",
       "\t22 & 1000200   & 139.16667 &  1.000000 &  1670     & 3         & 1008505   & 39142     & NULL      & NA days  \\\\\n",
       "\t21 & 1000200   & 107.50000 &  1.000000 &   430     & 4         & 1008505   & 39142     & NULL      & NA days  \\\\\n",
       "\t23 & 1000208   & 106.00000 &  1.000000 &   200     & 1         & 1008539   & 40121     & NULL      & NA days  \\\\\n",
       "\t25 & 1000211   & 200.00000 &  4.000000 &   800     & 1         & 1008539   & 39087     & 42430     & NA days  \\\\\n",
       "\t24 & 1000211   & 490.00000 &  7.000000 &  1960     & 3         & 1008539   & 39087     & 42430     & NA days  \\\\\n",
       "\t26 & 1000254   & 350.00000 &  5.000000 &  1400     & 3         & 1008505   & 40544     & NULL      & NA days  \\\\\n",
       "\t27 & 1000270   & 210.00000 &  3.000000 &   840     & 3         & 1008328   & 41456     & 42401     & NA days  \\\\\n",
       "\t28 & 1000275   & 243.80000 &  2.000000 &   460     & 3         & 1008472   & 39539     & NULL      & NA days  \\\\\n",
       "\t29 & 1000289   & 678.40000 & 16.000000 &  1280     & 4         & 1008434   & 40124     & 42156     & NA days  \\\\\n",
       "\t30 & 1000290   & 354.34286 &  2.642857 & 18720     & 1         & 1008347   & 39600     & NULL      & NA days  \\\\\n",
       "\t... & ... & ... & ... & ... & ... & ... & ... & ... & ...\\\\\n",
       "\t1204 & 1014706   &  200.0000 & 10.000000 &    800    &  4        & 1008434   & 42705     & 42917     & NA days  \\\\\n",
       "\t1205 & 1014780   &  150.0000 &  5.000000 &    600    &  4        & 1008458   & 42095     & 43025     & NA days  \\\\\n",
       "\t1206 & 1014811   &  726.1000 &  7.000000 &   2740    &  4        & 1008472   & 42095     & 43025     & NA days  \\\\\n",
       "\t1207 & 1014851   &  645.6286 &  8.285714 &  15020    &  4        & 1008357   & 42095     & NULL      & NA days  \\\\\n",
       "\t1208 & 1014859   &  432.6314 &  3.877551 &  39998    &  8        & 1008505   & 42095     & 42401     & NA days  \\\\\n",
       "\t1209 & 1015026   &  700.0000 & 10.000000 &   2800    &  5        & 1008403   & 42125     & 42522     & NA days  \\\\\n",
       "\t1210 & 1015027   &  280.0000 &  4.000000 &   2240    &  5        & 1008403   & 42125     & NULL      & NA days  \\\\\n",
       "\t1211 & 1015036   &  653.3333 &  9.333333 &   7840    &  5        & 1008403   & 42125     & 42522     & NA days  \\\\\n",
       "\t1212 & 1015071   &  700.0000 & 10.000000 &   2800    &  5        & 1008403   & 42125     & 42675     & NA days  \\\\\n",
       "\t1213 & 1015084   &  698.7500 &  9.000000 &   5590    &  5        & 1008403   & 42125     & NULL      & NA days  \\\\\n",
       "\t1214 & 1015163   &  237.4375 &  3.750000 &   7598    &  5        & 1008357   & 42125     & NULL      & NA days  \\\\\n",
       "\t1215 & 1015292   &  584.9375 &  4.187500 &  30000    & 12        & 1008385   & 42125     & NULL      & NA days  \\\\\n",
       "\t1216 & 1015307   &  592.8200 &  4.100000 &  20000    & 12        & 1008365   & 42125     & NULL      & NA days  \\\\\n",
       "\t1217 & 1015546   &  307.5436 &  2.538462 &  40000    & 12        & 1008357   & 42156     & NULL      & NA days  \\\\\n",
       "\t1218 & 1016213   & 1177.7778 &  8.666667 &  20000    & 12        & 1008512   & 42186     & NULL      & NA days  \\\\\n",
       "\t1219 & 1016502   &  875.0000 &  5.000000 &   3500    & 12        & 1008295   & 43009     & NULL      & NA days  \\\\\n",
       "\t1220 & 1016676   & 2876.1333 &  6.500000 &  32560    &  8        & 1008434   & 42217     & NULL      & NA days  \\\\\n",
       "\t1221 & 1016695   & 2500.0000 & 75.000000 &  20000    &  8        & 1008365   & 42217     & NULL      & NA days  \\\\\n",
       "\t1222 & 1016697   & 2505.6000 &  1.666667 &  20000    &  8        & 1008365   & 42217     & NULL      & NA days  \\\\\n",
       "\t1223 & 1017068   &  586.9091 &  3.363636 &  20130    & 12        & 1008357   & 42248     & 42583     & NA days  \\\\\n",
       "\t1224 & 1017454   & 3765.5500 &  3.000000 &  40000    & 12        & 1008365   & 42278     & 42491     & NA days  \\\\\n",
       "\t1225 & 1017643   & 5023.7640 &  5.000000 &  47394    & 12        & 1008347   & 42309     & 42614     & NA days  \\\\\n",
       "\t1226 & 1017885   &   55.0000 &  1.000000 &    220    & 12        & 1008365   & 43101     & NULL      & NA days  \\\\\n",
       "\t1227 & 1017979   &  481.6667 &  6.666667 &   5000    & 12        & 1008295   & 42309     & 42461     & NA days  \\\\\n",
       "\t1228 & 1018342   & 2862.0000 &  1.000000 &   5400    & 12        & 1008539   & 42339     & NULL      & NA days  \\\\\n",
       "\t1229 & 1018359   & 1800.0000 & 15.000000 &   7200    & 12        & 1008492   & 42491     & 42856     & NA days  \\\\\n",
       "\t1230 & 1018362   & 3981.2500 & 35.000000 &  31850    & 12        & 1008492   & 43101     & NULL      & NA days  \\\\\n",
       "\t1231 & 1018436   &  841.9952 &  5.500000 & 120000    & 12        & 1008365   & 42339     & NULL      & NA days  \\\\\n",
       "\t1232 & 1018489   &  245.0000 &  1.000000 &    980    & 12        & 1008365   & 42339     & 42614     & NA days  \\\\\n",
       "\t1233 & 1018692   &  540.6000 &  3.000000 &   1020    & 12        & 1008539   & 42339     & 42461     & NA days  \\\\\n",
       "\\end{tabular}\n"
      ],
      "text/markdown": [
       "\n",
       "| <!--/--> | SoldToParty | mean_price | mean_qty | sum_price_market | month | FzCode | 입사일자 | 퇴사일자 | 근속월수 |\n",
       "|---|---|---|---|---|---|---|---|---|---|\n",
       "| 1 | 1000032   | 985.80000 |  3.000000 |  1860     | 3         | 1008458   | 40057     | NULL      | NA days   |\n",
       "| 2 | 1000038   |  50.00000 |  1.000000 |   200     | 1         | 1008505   | 40575     | NULL      | NA days   |\n",
       "| 4 | 1000039   | 300.00000 |  6.000000 |  1200     | 1         | 1008505   | 40544     | NULL      | NA days   |\n",
       "| 3 | 1000039   | 140.00000 |  2.000000 |   560     | 3         | 1008505   | 40544     | NULL      | NA days   |\n",
       "| 5 | 1000069   |  70.00000 |  1.000000 |   280     | 3         | 1008505   | 39203     | NULL      | NA days   |\n",
       "| 6 | 1000070   | 190.80000 |  3.000000 |   720     | 4         | 1008492   | 41214     | NULL      | NA days   |\n",
       "| 7 | 1000072   | 186.25000 |  1.750000 |  2980     | 3         | 1008295   | 41153     | 42675     | NA days   |\n",
       "| 8 | 1000080   | 504.76190 |  3.761905 | 20000     | 5         | 1008458   | 39173     | NULL      | NA days   |\n",
       "| 9 | 1000089   | 100.00000 |  5.000000 |   400     | 4         | 1008434   | 41365     | NULL      | NA days   |\n",
       "| 10 | 1000105   |  84.80000 |  2.000000 |   160     | 4         | 1008434   | 41153     | NULL      | NA days   |\n",
       "| 11 | 1000117   | 466.40000 | 11.000000 |   880     | 3         | 1008512   | 40431     | NULL      | NA days   |\n",
       "| 12 | 1000124   | 140.00000 |  2.000000 |   560     | 3         | 1008505   | 38718     | NULL      | NA days   |\n",
       "| 13 | 1000124   |  60.00000 |  3.000000 |   240     | 4         | 1008505   | 38718     | NULL      | NA days   |\n",
       "| 14 | 1000126   | 150.00000 |  3.000000 |   600     | 1         | 1008505   | 38991     | NULL      | NA days   |\n",
       "| 15 | 1000126   |  70.00000 |  1.000000 |   280     | 3         | 1008505   | 38991     | NULL      | NA days   |\n",
       "| 16 | 1000136   | 125.00000 |  5.000000 |   500     | 1         | 1008357   | 42705     | NULL      | NA days   |\n",
       "| 17 | 1000153   |  33.33333 |  1.333333 |   400     | 1         | 1008458   | 38060     | NULL      | NA days   |\n",
       "| 18 | 1000161   | 660.73333 |  5.466667 | 18700     | 1         | 1008512   | 41760     | 43160     | NA days   |\n",
       "| 19 | 1000199   |  80.00000 |  4.000000 |   320     | 4         | 1008505   | 41791     | NULL      | NA days   |\n",
       "| 20 | 1000200   | 100.00000 |  2.000000 |   400     | 1         | 1008505   | 39142     | NULL      | NA days   |\n",
       "| 22 | 1000200   | 139.16667 |  1.000000 |  1670     | 3         | 1008505   | 39142     | NULL      | NA days   |\n",
       "| 21 | 1000200   | 107.50000 |  1.000000 |   430     | 4         | 1008505   | 39142     | NULL      | NA days   |\n",
       "| 23 | 1000208   | 106.00000 |  1.000000 |   200     | 1         | 1008539   | 40121     | NULL      | NA days   |\n",
       "| 25 | 1000211   | 200.00000 |  4.000000 |   800     | 1         | 1008539   | 39087     | 42430     | NA days   |\n",
       "| 24 | 1000211   | 490.00000 |  7.000000 |  1960     | 3         | 1008539   | 39087     | 42430     | NA days   |\n",
       "| 26 | 1000254   | 350.00000 |  5.000000 |  1400     | 3         | 1008505   | 40544     | NULL      | NA days   |\n",
       "| 27 | 1000270   | 210.00000 |  3.000000 |   840     | 3         | 1008328   | 41456     | 42401     | NA days   |\n",
       "| 28 | 1000275   | 243.80000 |  2.000000 |   460     | 3         | 1008472   | 39539     | NULL      | NA days   |\n",
       "| 29 | 1000289   | 678.40000 | 16.000000 |  1280     | 4         | 1008434   | 40124     | 42156     | NA days   |\n",
       "| 30 | 1000290   | 354.34286 |  2.642857 | 18720     | 1         | 1008347   | 39600     | NULL      | NA days   |\n",
       "| ... | ... | ... | ... | ... | ... | ... | ... | ... | ... |\n",
       "| 1204 | 1014706   |  200.0000 | 10.000000 |    800    |  4        | 1008434   | 42705     | 42917     | NA days   |\n",
       "| 1205 | 1014780   |  150.0000 |  5.000000 |    600    |  4        | 1008458   | 42095     | 43025     | NA days   |\n",
       "| 1206 | 1014811   |  726.1000 |  7.000000 |   2740    |  4        | 1008472   | 42095     | 43025     | NA days   |\n",
       "| 1207 | 1014851   |  645.6286 |  8.285714 |  15020    |  4        | 1008357   | 42095     | NULL      | NA days   |\n",
       "| 1208 | 1014859   |  432.6314 |  3.877551 |  39998    |  8        | 1008505   | 42095     | 42401     | NA days   |\n",
       "| 1209 | 1015026   |  700.0000 | 10.000000 |   2800    |  5        | 1008403   | 42125     | 42522     | NA days   |\n",
       "| 1210 | 1015027   |  280.0000 |  4.000000 |   2240    |  5        | 1008403   | 42125     | NULL      | NA days   |\n",
       "| 1211 | 1015036   |  653.3333 |  9.333333 |   7840    |  5        | 1008403   | 42125     | 42522     | NA days   |\n",
       "| 1212 | 1015071   |  700.0000 | 10.000000 |   2800    |  5        | 1008403   | 42125     | 42675     | NA days   |\n",
       "| 1213 | 1015084   |  698.7500 |  9.000000 |   5590    |  5        | 1008403   | 42125     | NULL      | NA days   |\n",
       "| 1214 | 1015163   |  237.4375 |  3.750000 |   7598    |  5        | 1008357   | 42125     | NULL      | NA days   |\n",
       "| 1215 | 1015292   |  584.9375 |  4.187500 |  30000    | 12        | 1008385   | 42125     | NULL      | NA days   |\n",
       "| 1216 | 1015307   |  592.8200 |  4.100000 |  20000    | 12        | 1008365   | 42125     | NULL      | NA days   |\n",
       "| 1217 | 1015546   |  307.5436 |  2.538462 |  40000    | 12        | 1008357   | 42156     | NULL      | NA days   |\n",
       "| 1218 | 1016213   | 1177.7778 |  8.666667 |  20000    | 12        | 1008512   | 42186     | NULL      | NA days   |\n",
       "| 1219 | 1016502   |  875.0000 |  5.000000 |   3500    | 12        | 1008295   | 43009     | NULL      | NA days   |\n",
       "| 1220 | 1016676   | 2876.1333 |  6.500000 |  32560    |  8        | 1008434   | 42217     | NULL      | NA days   |\n",
       "| 1221 | 1016695   | 2500.0000 | 75.000000 |  20000    |  8        | 1008365   | 42217     | NULL      | NA days   |\n",
       "| 1222 | 1016697   | 2505.6000 |  1.666667 |  20000    |  8        | 1008365   | 42217     | NULL      | NA days   |\n",
       "| 1223 | 1017068   |  586.9091 |  3.363636 |  20130    | 12        | 1008357   | 42248     | 42583     | NA days   |\n",
       "| 1224 | 1017454   | 3765.5500 |  3.000000 |  40000    | 12        | 1008365   | 42278     | 42491     | NA days   |\n",
       "| 1225 | 1017643   | 5023.7640 |  5.000000 |  47394    | 12        | 1008347   | 42309     | 42614     | NA days   |\n",
       "| 1226 | 1017885   |   55.0000 |  1.000000 |    220    | 12        | 1008365   | 43101     | NULL      | NA days   |\n",
       "| 1227 | 1017979   |  481.6667 |  6.666667 |   5000    | 12        | 1008295   | 42309     | 42461     | NA days   |\n",
       "| 1228 | 1018342   | 2862.0000 |  1.000000 |   5400    | 12        | 1008539   | 42339     | NULL      | NA days   |\n",
       "| 1229 | 1018359   | 1800.0000 | 15.000000 |   7200    | 12        | 1008492   | 42491     | 42856     | NA days   |\n",
       "| 1230 | 1018362   | 3981.2500 | 35.000000 |  31850    | 12        | 1008492   | 43101     | NULL      | NA days   |\n",
       "| 1231 | 1018436   |  841.9952 |  5.500000 | 120000    | 12        | 1008365   | 42339     | NULL      | NA days   |\n",
       "| 1232 | 1018489   |  245.0000 |  1.000000 |    980    | 12        | 1008365   | 42339     | 42614     | NA days   |\n",
       "| 1233 | 1018692   |  540.6000 |  3.000000 |   1020    | 12        | 1008539   | 42339     | 42461     | NA days   |\n",
       "\n"
      ],
      "text/plain": [
       "     SoldToParty mean_price mean_qty  sum_price_market month FzCode  입사일자\n",
       "1    1000032     985.80000   3.000000  1860            3     1008458 40057   \n",
       "2    1000038      50.00000   1.000000   200            1     1008505 40575   \n",
       "4    1000039     300.00000   6.000000  1200            1     1008505 40544   \n",
       "3    1000039     140.00000   2.000000   560            3     1008505 40544   \n",
       "5    1000069      70.00000   1.000000   280            3     1008505 39203   \n",
       "6    1000070     190.80000   3.000000   720            4     1008492 41214   \n",
       "7    1000072     186.25000   1.750000  2980            3     1008295 41153   \n",
       "8    1000080     504.76190   3.761905 20000            5     1008458 39173   \n",
       "9    1000089     100.00000   5.000000   400            4     1008434 41365   \n",
       "10   1000105      84.80000   2.000000   160            4     1008434 41153   \n",
       "11   1000117     466.40000  11.000000   880            3     1008512 40431   \n",
       "12   1000124     140.00000   2.000000   560            3     1008505 38718   \n",
       "13   1000124      60.00000   3.000000   240            4     1008505 38718   \n",
       "14   1000126     150.00000   3.000000   600            1     1008505 38991   \n",
       "15   1000126      70.00000   1.000000   280            3     1008505 38991   \n",
       "16   1000136     125.00000   5.000000   500            1     1008357 42705   \n",
       "17   1000153      33.33333   1.333333   400            1     1008458 38060   \n",
       "18   1000161     660.73333   5.466667 18700            1     1008512 41760   \n",
       "19   1000199      80.00000   4.000000   320            4     1008505 41791   \n",
       "20   1000200     100.00000   2.000000   400            1     1008505 39142   \n",
       "22   1000200     139.16667   1.000000  1670            3     1008505 39142   \n",
       "21   1000200     107.50000   1.000000   430            4     1008505 39142   \n",
       "23   1000208     106.00000   1.000000   200            1     1008539 40121   \n",
       "25   1000211     200.00000   4.000000   800            1     1008539 39087   \n",
       "24   1000211     490.00000   7.000000  1960            3     1008539 39087   \n",
       "26   1000254     350.00000   5.000000  1400            3     1008505 40544   \n",
       "27   1000270     210.00000   3.000000   840            3     1008328 41456   \n",
       "28   1000275     243.80000   2.000000   460            3     1008472 39539   \n",
       "29   1000289     678.40000  16.000000  1280            4     1008434 40124   \n",
       "30   1000290     354.34286   2.642857 18720            1     1008347 39600   \n",
       "...  ...         ...        ...       ...              ...   ...     ...     \n",
       "1204 1014706      200.0000  10.000000    800            4    1008434 42705   \n",
       "1205 1014780      150.0000   5.000000    600            4    1008458 42095   \n",
       "1206 1014811      726.1000   7.000000   2740            4    1008472 42095   \n",
       "1207 1014851      645.6286   8.285714  15020            4    1008357 42095   \n",
       "1208 1014859      432.6314   3.877551  39998            8    1008505 42095   \n",
       "1209 1015026      700.0000  10.000000   2800            5    1008403 42125   \n",
       "1210 1015027      280.0000   4.000000   2240            5    1008403 42125   \n",
       "1211 1015036      653.3333   9.333333   7840            5    1008403 42125   \n",
       "1212 1015071      700.0000  10.000000   2800            5    1008403 42125   \n",
       "1213 1015084      698.7500   9.000000   5590            5    1008403 42125   \n",
       "1214 1015163      237.4375   3.750000   7598            5    1008357 42125   \n",
       "1215 1015292      584.9375   4.187500  30000           12    1008385 42125   \n",
       "1216 1015307      592.8200   4.100000  20000           12    1008365 42125   \n",
       "1217 1015546      307.5436   2.538462  40000           12    1008357 42156   \n",
       "1218 1016213     1177.7778   8.666667  20000           12    1008512 42186   \n",
       "1219 1016502      875.0000   5.000000   3500           12    1008295 43009   \n",
       "1220 1016676     2876.1333   6.500000  32560            8    1008434 42217   \n",
       "1221 1016695     2500.0000  75.000000  20000            8    1008365 42217   \n",
       "1222 1016697     2505.6000   1.666667  20000            8    1008365 42217   \n",
       "1223 1017068      586.9091   3.363636  20130           12    1008357 42248   \n",
       "1224 1017454     3765.5500   3.000000  40000           12    1008365 42278   \n",
       "1225 1017643     5023.7640   5.000000  47394           12    1008347 42309   \n",
       "1226 1017885       55.0000   1.000000    220           12    1008365 43101   \n",
       "1227 1017979      481.6667   6.666667   5000           12    1008295 42309   \n",
       "1228 1018342     2862.0000   1.000000   5400           12    1008539 42339   \n",
       "1229 1018359     1800.0000  15.000000   7200           12    1008492 42491   \n",
       "1230 1018362     3981.2500  35.000000  31850           12    1008492 43101   \n",
       "1231 1018436      841.9952   5.500000 120000           12    1008365 42339   \n",
       "1232 1018489      245.0000   1.000000    980           12    1008365 42339   \n",
       "1233 1018692      540.6000   3.000000   1020           12    1008539 42339   \n",
       "     퇴사일자 근속월수\n",
       "1    NULL     NA days \n",
       "2    NULL     NA days \n",
       "4    NULL     NA days \n",
       "3    NULL     NA days \n",
       "5    NULL     NA days \n",
       "6    NULL     NA days \n",
       "7    42675    NA days \n",
       "8    NULL     NA days \n",
       "9    NULL     NA days \n",
       "10   NULL     NA days \n",
       "11   NULL     NA days \n",
       "12   NULL     NA days \n",
       "13   NULL     NA days \n",
       "14   NULL     NA days \n",
       "15   NULL     NA days \n",
       "16   NULL     NA days \n",
       "17   NULL     NA days \n",
       "18   43160    NA days \n",
       "19   NULL     NA days \n",
       "20   NULL     NA days \n",
       "22   NULL     NA days \n",
       "21   NULL     NA days \n",
       "23   NULL     NA days \n",
       "25   42430    NA days \n",
       "24   42430    NA days \n",
       "26   NULL     NA days \n",
       "27   42401    NA days \n",
       "28   NULL     NA days \n",
       "29   42156    NA days \n",
       "30   NULL     NA days \n",
       "...  ...      ...     \n",
       "1204 42917    NA days \n",
       "1205 43025    NA days \n",
       "1206 43025    NA days \n",
       "1207 NULL     NA days \n",
       "1208 42401    NA days \n",
       "1209 42522    NA days \n",
       "1210 NULL     NA days \n",
       "1211 42522    NA days \n",
       "1212 42675    NA days \n",
       "1213 NULL     NA days \n",
       "1214 NULL     NA days \n",
       "1215 NULL     NA days \n",
       "1216 NULL     NA days \n",
       "1217 NULL     NA days \n",
       "1218 NULL     NA days \n",
       "1219 NULL     NA days \n",
       "1220 NULL     NA days \n",
       "1221 NULL     NA days \n",
       "1222 NULL     NA days \n",
       "1223 42583    NA days \n",
       "1224 42491    NA days \n",
       "1225 42614    NA days \n",
       "1226 NULL     NA days \n",
       "1227 42461    NA days \n",
       "1228 NULL     NA days \n",
       "1229 42856    NA days \n",
       "1230 NULL     NA days \n",
       "1231 NULL     NA days \n",
       "1232 42614    NA days \n",
       "1233 42461    NA days "
      ]
     },
     "metadata": {},
     "output_type": "display_data"
    }
   ],
   "source": [
    "t_order_total[order(t_order_total$SoldToParty,t_order_total$month), ]"
   ]
  }
 ],
 "metadata": {
  "kernelspec": {
   "display_name": "R",
   "language": "R",
   "name": "ir"
  },
  "language_info": {
   "codemirror_mode": "r",
   "file_extension": ".r",
   "mimetype": "text/x-r-source",
   "name": "R",
   "pygments_lexer": "r",
   "version": "3.6.0"
  }
 },
 "nbformat": 4,
 "nbformat_minor": 2
}
